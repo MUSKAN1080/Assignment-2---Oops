{
 "cells": [
  {
   "cell_type": "code",
   "execution_count": 174,
   "metadata": {},
   "outputs": [],
   "source": [
    "#CONSTRUCTOR:\n",
    "\n",
    "\n",
    "#1. What is a constructor in Python? Explain its purpose and usage.\n",
    "\n",
    "#Answer   A constructor in Python is a special method that is automatically called \n",
    "#         when an instance (object) of a class is created. Its primary purpose is to initialize\n",
    "#         the instance's attributes and perform any setup required for the object. The constructor \n",
    "#        method in Python is defined using the __init__ method\n",
    "\n",
    "\n",
    "#2. Differentiate between a parameterless constructor and a parameterized constructor in Python.\n",
    "\n",
    "#Answer  Parameterless Constructor: A constructor that does not take any parameters other than self. It initializes the object with default values.\n",
    "#        Parameterized Constructor: A constructor that takes parameters in addition to self. It initializes the object with values provided as arguments.\n"
   ]
  },
  {
   "cell_type": "code",
   "execution_count": 175,
   "metadata": {},
   "outputs": [
    {
     "name": "stdout",
     "output_type": "stream",
     "text": [
      "Toyota\n",
      "Corolla\n"
     ]
    }
   ],
   "source": [
    "#3. How do you define a constructor in a Python class? Provide an example.\n",
    "\n",
    "#Answer  \n",
    "class Car:\n",
    "    def __init__(self, make, model):\n",
    "        self.make = make\n",
    "        self.model = model\n",
    "\n",
    "# Example of creating an object\n",
    "my_car = Car('Toyota', 'Corolla')\n",
    "print(my_car.make)  # Output: Toyota\n",
    "print(my_car.model)  # Output: Corolla\n",
    "\n"
   ]
  },
  {
   "cell_type": "code",
   "execution_count": 176,
   "metadata": {},
   "outputs": [],
   "source": [
    "#4. Explain the `__init__` method in Python and its role in constructors.\n",
    "\n",
    "#Answer  The __init__ method in Python is a special method that acts as the constructor. \n",
    "#        It is automatically invoked when a new instance of the class is created. \n",
    "#        Its role is to initialize the attributes of the object and perform any necessary setup."
   ]
  },
  {
   "cell_type": "code",
   "execution_count": 177,
   "metadata": {},
   "outputs": [
    {
     "name": "stdout",
     "output_type": "stream",
     "text": [
      "Alice\n",
      "30\n"
     ]
    }
   ],
   "source": [
    "#5. In a class named `Person`, create a constructor that initializes the `name` and `age` attributes. Provide an\n",
    "#   example of creating an object of this class.\n",
    "\n",
    "\n",
    "#Answer  \n",
    "class Person:\n",
    "    def __init__(self, name, age):\n",
    "        self.name = name\n",
    "        self.age = age\n",
    "\n",
    "# Example of creating an object\n",
    "person1 = Person('Alice', 30)\n",
    "print(person1.name)  # Output: Alice\n",
    "print(person1.age)   # Output: 30\n",
    "\n"
   ]
  },
  {
   "cell_type": "code",
   "execution_count": 178,
   "metadata": {},
   "outputs": [
    {
     "name": "stdout",
     "output_type": "stream",
     "text": [
      "None\n"
     ]
    }
   ],
   "source": [
    "#6. How can you call a constructor explicitly in Python? Give an example.\n",
    "\n",
    "#Answer  \n",
    "class Person:\n",
    "    def __init__(self, name, age):\n",
    "        self.name = name\n",
    "        self.age = age\n",
    "\n",
    "# Explicitly calling the constructor\n",
    "person2 = Person.__init__(Person, 'Bob', 25)\n",
    "print(person2)  # Output: None (explicit constructor calls return None)\n"
   ]
  },
  {
   "cell_type": "code",
   "execution_count": 179,
   "metadata": {},
   "outputs": [
    {
     "name": "stdout",
     "output_type": "stream",
     "text": [
      "Buddy is barking!\n"
     ]
    }
   ],
   "source": [
    "#7. What is the significance of the `self` parameter in Python constructors? Explain with an example.\n",
    "\n",
    "#Answer  The self parameter in Python constructors refers to the instance of the class. It allows access to \n",
    "#        the attributes and methods of the class within the constructor and other methods\n",
    "\n",
    "class Dog:\n",
    "    def __init__(self, name):\n",
    "        self.name = name\n",
    "\n",
    "    def bark(self):\n",
    "        print(f\"{self.name} is barking!\")\n",
    "\n",
    "# Creating an object\n",
    "dog1 = Dog('Buddy')\n",
    "dog1.bark()  # Output: Buddy is barking!\n",
    "\n"
   ]
  },
  {
   "cell_type": "code",
   "execution_count": 180,
   "metadata": {},
   "outputs": [
    {
     "name": "stdout",
     "output_type": "stream",
     "text": [
      "0\n"
     ]
    }
   ],
   "source": [
    "#8. Discuss the concept of default constructors in Python. When are they used?\n",
    "\n",
    "#Answer  A default constructor is a constructor that does not take any parameters (other than self). \n",
    "#        It initializes the object with default values. They are used when you want to create objects \n",
    "#        without needing to provide initial values.\n",
    "\n",
    "class Example:\n",
    "    def __init__(self):\n",
    "        self.value = 0\n",
    "\n",
    "# Creating an object using the default constructor\n",
    "example1 = Example()\n",
    "print(example1.value)  # Output: 0\n"
   ]
  },
  {
   "cell_type": "code",
   "execution_count": 181,
   "metadata": {},
   "outputs": [
    {
     "name": "stdout",
     "output_type": "stream",
     "text": [
      "50\n"
     ]
    }
   ],
   "source": [
    "\n",
    "#9. Create a Python class called `Rectangle` with a constructor that initializes the `width` and `height`\n",
    "#   attributes. Provide a method to calculate the area of the rectangle.\n",
    "\n",
    "\n",
    "#Answer  \n",
    "class Rectangle:\n",
    "    def __init__(self, width, height):\n",
    "        self.width = width\n",
    "        self.height = height\n",
    "\n",
    "    def area(self):\n",
    "        return self.width * self.height\n",
    "\n",
    "# Creating an object and calculating the area\n",
    "rect1 = Rectangle(5, 10)\n",
    "print(rect1.area())  # Output: 50\n"
   ]
  },
  {
   "cell_type": "code",
   "execution_count": 182,
   "metadata": {},
   "outputs": [
    {
     "name": "stdout",
     "output_type": "stream",
     "text": [
      "1984 George Orwell 1949\n",
      "Animal Farm George Orwell None\n",
      "Unknown Book None None\n"
     ]
    }
   ],
   "source": [
    "\n",
    "#10. How can you have multiple constructors in a Python class? Explain with an example.\n",
    "\n",
    "#Answer  Python does not support multiple constructors directly, but you can achieve similar\n",
    "#        functionality using default arguments or class methods. Here is an example using class methods:\n",
    "\n",
    "class Book:\n",
    "    def __init__(self, title, author, year):\n",
    "        self.title = title\n",
    "        self.author = author\n",
    "        self.year = year\n",
    "\n",
    "    @classmethod\n",
    "    def from_title_and_author(cls, title, author):\n",
    "        return cls(title, author, None)\n",
    "\n",
    "    @classmethod\n",
    "    def from_title(cls, title):\n",
    "        return cls(title, None, None)\n",
    "\n",
    "# Creating objects using different constructors\n",
    "book1 = Book('1984', 'George Orwell', 1949)\n",
    "book2 = Book.from_title_and_author('Animal Farm', 'George Orwell')\n",
    "book3 = Book.from_title('Unknown Book')\n",
    "\n",
    "print(book1.title, book1.author, book1.year)  # Output: 1984 George Orwell 1949\n",
    "print(book2.title, book2.author, book2.year)  # Output: Animal Farm George Orwell None\n",
    "print(book3.title, book3.author, book3.year)  # Output: Unknown Book None None\n"
   ]
  },
  {
   "cell_type": "code",
   "execution_count": 183,
   "metadata": {},
   "outputs": [],
   "source": [
    "\n",
    "#11. What is method overloading, and how is it related to constructors in Python?\n",
    "\n",
    "\n",
    "#Answer  Method overloading refers to the ability to define multiple methods with the same name \n",
    "#        but different parameters in the same class. In many languages, this allows for methods that can handle\n",
    "#        different types or numbers of arguments. However, Python does not support method overloading directly. Instead,\n",
    "#        you can achieve similar functionality using default arguments or variable-length arguments.\n",
    "\n",
    "#        In the context of constructors, method overloading can be mimicked by using class methods to create multiple \"constructors\" or\n",
    "#        by using default arguments in the __init__ method.\n"
   ]
  },
  {
   "cell_type": "code",
   "execution_count": 184,
   "metadata": {},
   "outputs": [
    {
     "name": "stdout",
     "output_type": "stream",
     "text": [
      "Parent initialized with name: John\n",
      "Child initialized with name: John and age: 10\n"
     ]
    }
   ],
   "source": [
    "#12. Explain the use of the `super()` function in Python constructors. Provide an example.\n",
    "\n",
    "#Answer  The super() function in Python is used to call a method from a parent class. \n",
    "#        It is commonly used in constructors to ensure that the parent class is properly \n",
    "#        initialized when a subclass is created.\n",
    "\n",
    "class Parent:\n",
    "    def __init__(self, name):\n",
    "        self.name = name\n",
    "        print(f\"Parent initialized with name: {self.name}\")\n",
    "\n",
    "class Child(Parent):\n",
    "    def __init__(self, name, age):\n",
    "        super().__init__(name)  # Call the parent class's constructor\n",
    "        self.age = age\n",
    "        print(f\"Child initialized with name: {self.name} and age: {self.age}\")\n",
    "\n",
    "child = Child(\"John\", 10)\n"
   ]
  },
  {
   "cell_type": "code",
   "execution_count": 185,
   "metadata": {},
   "outputs": [
    {
     "name": "stdout",
     "output_type": "stream",
     "text": [
      "Title: The Great Gatsby, Author: F. Scott Fitzgerald, Published Year: 1925\n"
     ]
    }
   ],
   "source": [
    "\n",
    "#13. Create a class called `Book` with a constructor that initializes the `title`, `author`, and `published_year`\n",
    "#    attributes. Provide a method to display book details.\n",
    "\n",
    "#Answer  \n",
    "class Book:\n",
    "    def __init__(self, title, author, published_year):\n",
    "        self.title = title\n",
    "        self.author = author\n",
    "        self.published_year = published_year\n",
    "    \n",
    "    def display_details(self):\n",
    "        print(f\"Title: {self.title}, Author: {self.author}, Published Year: {self.published_year}\")\n",
    "\n",
    "book = Book(\"The Great Gatsby\", \"F. Scott Fitzgerald\", 1925)\n",
    "book.display_details()\n"
   ]
  },
  {
   "cell_type": "code",
   "execution_count": 186,
   "metadata": {},
   "outputs": [],
   "source": [
    "\n",
    "#14. Discuss the differences between constructors and regular methods in Python classes.\n",
    "\n",
    "#Answer  \n",
    "# Constructor:\n",
    "\n",
    "#          Special method called when an instance of a class is created.\n",
    "#          Typically used to initialize instance variables.\n",
    "#          Has a fixed name: __init__().\n",
    "#          Called automatically when a new instance is created.\n",
    "\n",
    "\n",
    "#Regular Method:\n",
    "\n",
    "#Regular functions defined within a class.\n",
    "#Can be called on an instance after it has been created.\n",
    "#Used to define behaviors of the class.\n",
    "#Must be called explicitly.\n"
   ]
  },
  {
   "cell_type": "code",
   "execution_count": 187,
   "metadata": {},
   "outputs": [],
   "source": [
    "\n",
    "#15. Explain the role of the `self` parameter in instance variable initialization within a constructor.\n",
    "\n",
    "#Answer  The self parameter in a constructor refers to the instance of the class being created. It is used to initialize\n",
    "#        instance variables, allowing them to be unique to each instance of the class. Without self, the instance variables\n",
    "#        would not be properly associated with the instance"
   ]
  },
  {
   "cell_type": "code",
   "execution_count": 188,
   "metadata": {},
   "outputs": [],
   "source": [
    "\n",
    "#16. How do you prevent a class from having multiple instances by using constructors in Python? Provide an\n",
    "#    example.\n",
    "\n",
    "#Answer  You can implement a Singleton pattern to prevent a class from having multiple instances. \n",
    "#        This ensures that only one instance of the class exists\n",
    "\n",
    "#class Singleton:\n",
    "#    _instance = None\n",
    "\n",
    "#    def __new__(cls, *args, **kwargs):\n",
    "#        if not cls._instance:\n",
    "#            cls._instance = super().__new__(cls, *args, **kwargs)\n",
    "#        return cls._instance\n",
    "\n",
    "#    def __init__(self, value):\n",
    "#        if not hasattr(self, 'initialized'):\n",
    "#            self.value = value\n",
    "#            self.initialized = True\n",
    "\n",
    "#singleton1 = Singleton(\"First\")\n",
    "#singleton2 = Singleton(\"Second\")\n",
    "\n",
    "#print(singleton1.value)  # Output: First\n",
    "#print(singleton2.value)  # Output: First\n",
    "#print(singleton1 is singleton2)  # Output: True\n"
   ]
  },
  {
   "cell_type": "code",
   "execution_count": 189,
   "metadata": {},
   "outputs": [
    {
     "name": "stdout",
     "output_type": "stream",
     "text": [
      "Subjects: Math, Science, History\n"
     ]
    }
   ],
   "source": [
    "\n",
    "#17. Create a Python class called `Student` with a constructor that takes a list of subjects as a parameter and\n",
    "#    initializes the `subjects` attribute.\n",
    "\n",
    "#Answer  \n",
    "class Student:\n",
    "    def __init__(self, subjects):\n",
    "        self.subjects = subjects\n",
    "\n",
    "    def display_subjects(self):\n",
    "        print(\"Subjects:\", \", \".join(self.subjects))\n",
    "\n",
    "student = Student([\"Math\", \"Science\", \"History\"])\n",
    "student.display_subjects()\n"
   ]
  },
  {
   "cell_type": "code",
   "execution_count": 190,
   "metadata": {},
   "outputs": [
    {
     "name": "stdout",
     "output_type": "stream",
     "text": [
      "Resource Database Connection acquired\n",
      "Resource Database Connection released\n"
     ]
    }
   ],
   "source": [
    "\n",
    "#18. What is the purpose of the `__del__` method in Python classes, and how does it relate to constructors?\n",
    "\n",
    "#Answer  The __del__ method is a destructor method in Python, called when an instance is about to be destroyed. \n",
    "#        It allows for cleanup activities, such as closing files or network connections. It complements the constructor (__init__), \n",
    "#        which initializes an instance\n",
    "\n",
    "class Resource:\n",
    "    def __init__(self, name):\n",
    "        self.name = name\n",
    "        print(f\"Resource {self.name} acquired\")\n",
    "\n",
    "    def __del__(self):\n",
    "        print(f\"Resource {self.name} released\")\n",
    "\n",
    "resource = Resource(\"Database Connection\")\n",
    "del resource\n"
   ]
  },
  {
   "cell_type": "code",
   "execution_count": 191,
   "metadata": {},
   "outputs": [
    {
     "name": "stdout",
     "output_type": "stream",
     "text": [
      "Base initialized with base_value: 10\n",
      "Derived initialized with derived_value: 20\n"
     ]
    }
   ],
   "source": [
    "\n",
    "#19. Explain the use of constructor chaining in Python. Provide a practical example.\n",
    "\n",
    "#Answer  Constructor chaining refers to the practice of calling one constructor from another\n",
    "#        constructor in the same class or in a parent class using super(). It ensures that all \n",
    "#        constructors in the hierarchy are properly executed\n",
    "\n",
    "class Base:\n",
    "    def __init__(self, base_value):\n",
    "        self.base_value = base_value\n",
    "        print(f\"Base initialized with base_value: {self.base_value}\")\n",
    "\n",
    "class Derived(Base):\n",
    "    def __init__(self, base_value, derived_value):\n",
    "        super().__init__(base_value)  # Call the base class constructor\n",
    "        self.derived_value = derived_value\n",
    "        print(f\"Derived initialized with derived_value: {self.derived_value}\")\n",
    "\n",
    "derived = Derived(10, 20)\n"
   ]
  },
  {
   "cell_type": "code",
   "execution_count": 192,
   "metadata": {},
   "outputs": [
    {
     "name": "stdout",
     "output_type": "stream",
     "text": [
      "Car Make: Toyota, Model: Corolla\n"
     ]
    }
   ],
   "source": [
    "\n",
    "#20. Create a Python class called `Car` with a default constructor that initializes the `make` and `model`\n",
    "#    attributes. Provide a method to display car information.\n",
    "\n",
    "#Answer  \n",
    "class Car:\n",
    "    def __init__(self, make=\"Unknown\", model=\"Unknown\"):\n",
    "        self.make = make\n",
    "        self.model = model\n",
    "\n",
    "    def display_info(self):\n",
    "        print(f\"Car Make: {self.make}, Model: {self.model}\")\n",
    "\n",
    "car = Car(\"Toyota\", \"Corolla\")\n",
    "car.display_info()\n"
   ]
  },
  {
   "cell_type": "code",
   "execution_count": 193,
   "metadata": {},
   "outputs": [],
   "source": [
    "#INHERITANCE: QUESTION"
   ]
  },
  {
   "cell_type": "code",
   "execution_count": 194,
   "metadata": {},
   "outputs": [],
   "source": [
    "#1. What is inheritance in Python? Explain its significance in object-oriented programming.\n",
    "\n",
    "#Answer  Inheritance is a fundamental concept in object-oriented programming (OOP) that allows a \n",
    "#        class (called a child class or subclass) to inherit attributes and methods from another class (called a parent class or superclass).\n",
    "#        This promotes code reusability, modularity, and the creation of a hierarchical class structure."
   ]
  },
  {
   "cell_type": "code",
   "execution_count": 195,
   "metadata": {},
   "outputs": [
    {
     "name": "stdout",
     "output_type": "stream",
     "text": [
      "Animal speaks\n",
      "Dog barks\n",
      "Animal speaks\n",
      "Pet plays\n",
      "Dog barks\n"
     ]
    }
   ],
   "source": [
    "\n",
    "#2. Differentiate between single inheritance and multiple inheritance in Python. Provide examples for each.\n",
    "\n",
    "#Answer  Single Inheritance: A subclass inherits from only one parent class.\n",
    "class Animal:\n",
    "    def speak(self):\n",
    "        print(\"Animal speaks\")\n",
    "\n",
    "class Dog(Animal):  # Single inheritance\n",
    "    def bark(self):\n",
    "        print(\"Dog barks\")\n",
    "\n",
    "dog = Dog()\n",
    "dog.speak()\n",
    "dog.bark()\n",
    "\n",
    "\n",
    "     #   Multiple Inheritance: A subclass inherits from more than one parent class\n",
    "\n",
    "class Animal:\n",
    "    def speak(self):\n",
    "        print(\"Animal speaks\")\n",
    "\n",
    "class Pet:\n",
    "    def play(self):\n",
    "        print(\"Pet plays\")\n",
    "\n",
    "class Dog(Animal, Pet):  # Multiple inheritance\n",
    "    def bark(self):\n",
    "        print(\"Dog barks\")\n",
    "\n",
    "dog = Dog()\n",
    "dog.speak()\n",
    "dog.play()\n",
    "dog.bark()"
   ]
  },
  {
   "cell_type": "code",
   "execution_count": 196,
   "metadata": {},
   "outputs": [
    {
     "name": "stdout",
     "output_type": "stream",
     "text": [
      "Color: Red, Speed: 150, Brand: Toyota\n"
     ]
    }
   ],
   "source": [
    "\n",
    "#3. Create a Python class called `Vehicle` with attributes `color` and `speed`. Then, create a child class called\n",
    "#   `Car` that inherits from `Vehicle` and adds a `brand` attribute. Provide an example of creating a `Car` object.\n",
    "\n",
    "\n",
    "#Answer   \n",
    "class Vehicle:\n",
    "    def __init__(self, color, speed):\n",
    "        self.color = color\n",
    "        self.speed = speed\n",
    "\n",
    "class Car(Vehicle):\n",
    "    def __init__(self, color, speed, brand):\n",
    "        super().__init__(color, speed)\n",
    "        self.brand = brand\n",
    "\n",
    "    def display_info(self):\n",
    "        print(f\"Color: {self.color}, Speed: {self.speed}, Brand: {self.brand}\")\n",
    "\n",
    "car = Car(\"Red\", 150, \"Toyota\")\n",
    "car.display_info()\n"
   ]
  },
  {
   "cell_type": "code",
   "execution_count": 197,
   "metadata": {},
   "outputs": [
    {
     "name": "stdout",
     "output_type": "stream",
     "text": [
      "Animal speaks\n",
      "Dog barks\n"
     ]
    }
   ],
   "source": [
    "\n",
    "#4. Explain the concept of method overriding in inheritance. Provide a practical example.\n",
    "\n",
    "\n",
    "#Answer  Method overriding occurs when a subclass provides a specific implementation for a method \n",
    "#        that is already defined in its parent class. This allows the subclass to modify or extend the behavior of the method\n",
    "\n",
    "\n",
    "class Animal:\n",
    "    def speak(self):\n",
    "        print(\"Animal speaks\")\n",
    "\n",
    "class Dog(Animal):\n",
    "    def speak(self):  # Overriding the speak method\n",
    "        print(\"Dog barks\")\n",
    "\n",
    "animal = Animal()\n",
    "animal.speak()\n",
    "\n",
    "dog = Dog()\n",
    "dog.speak()  # Calls the overridden method\n"
   ]
  },
  {
   "cell_type": "code",
   "execution_count": 198,
   "metadata": {},
   "outputs": [
    {
     "name": "stdout",
     "output_type": "stream",
     "text": [
      "Hello from Parent\n",
      "Hello from Child\n"
     ]
    }
   ],
   "source": [
    "\n",
    "#5. How can you access the methods and attributes of a parent class from a child class in Python? Give an\n",
    "#   example.\n",
    "\n",
    "#Answer   By using super() function\n",
    "class Parent:\n",
    "    def greet(self):\n",
    "        print(\"Hello from Parent\")\n",
    "\n",
    "class Child(Parent):\n",
    "    def greet(self):\n",
    "        super().greet()  # Accessing parent class method\n",
    "        print(\"Hello from Child\")\n",
    "\n",
    "child = Child()\n",
    "child.greet()\n"
   ]
  },
  {
   "cell_type": "code",
   "execution_count": 199,
   "metadata": {},
   "outputs": [
    {
     "name": "stdout",
     "output_type": "stream",
     "text": [
      "Buddy makes a sound\n",
      "Buddy barks\n"
     ]
    }
   ],
   "source": [
    "\n",
    "#6. Discuss the use of the `super()` function in Python inheritance. When and why is it used? Provide an\n",
    "#   example.\n",
    "\n",
    "#Answer  The super() function is used to call methods from a parent class. It is commonly used in the context of\n",
    "#        method overriding and constructor chaining to ensure that the parent class's methods and constructors are properly executed\n",
    "\n",
    "class Animal:\n",
    "    def __init__(self, name):\n",
    "        self.name = name\n",
    "\n",
    "    def speak(self):\n",
    "        print(f\"{self.name} makes a sound\")\n",
    "\n",
    "class Dog(Animal):\n",
    "    def __init__(self, name, breed):\n",
    "        super().__init__(name)  # Call the parent class's constructor\n",
    "        self.breed = breed\n",
    "\n",
    "    def speak(self):\n",
    "        super().speak()  # Call the parent class's method\n",
    "        print(f\"{self.name} barks\")\n",
    "\n",
    "dog = Dog(\"Buddy\", \"Golden Retriever\")\n",
    "dog.speak()\n"
   ]
  },
  {
   "cell_type": "code",
   "execution_count": 200,
   "metadata": {},
   "outputs": [
    {
     "name": "stdout",
     "output_type": "stream",
     "text": [
      "Dog barks\n",
      "Cat meows\n"
     ]
    }
   ],
   "source": [
    "\n",
    "#7. Create a Python class called `Animal` with a method `speak()`. Then, create child classes `Dog` and `Cat` that inherit from `Animal` and override the `speak()` method. Provide an example of using these classes.\n",
    "\n",
    "#Answer  \n",
    "class Animal:\n",
    "    def speak(self):\n",
    "        print(\"Animal speaks\")\n",
    "\n",
    "class Dog(Animal):\n",
    "    def speak(self):\n",
    "        print(\"Dog barks\")\n",
    "\n",
    "class Cat(Animal):\n",
    "    def speak(self):\n",
    "        print(\"Cat meows\")\n",
    "\n",
    "dog = Dog()\n",
    "cat = Cat()\n",
    "\n",
    "dog.speak()\n",
    "cat.speak()\n"
   ]
  },
  {
   "cell_type": "code",
   "execution_count": 201,
   "metadata": {},
   "outputs": [
    {
     "name": "stdout",
     "output_type": "stream",
     "text": [
      "True\n",
      "True\n",
      "True\n"
     ]
    }
   ],
   "source": [
    "\n",
    "#8. Explain the role of the `isinstance()` function in Python and how it relates to inheritance.\n",
    "\n",
    "#Answer     he isinstance() function checks if an object is an instance of a specified class or a subclass thereof.\n",
    "#           It is useful for type checking in the context of inheritance\n",
    "\n",
    "class Animal:\n",
    "    pass\n",
    "\n",
    "class Dog(Animal):\n",
    "    pass\n",
    "\n",
    "dog = Dog()\n",
    "\n",
    "print(isinstance(dog, Dog))    # True\n",
    "print(isinstance(dog, Animal)) # True\n",
    "print(isinstance(dog, object)) # True\n"
   ]
  },
  {
   "cell_type": "code",
   "execution_count": 202,
   "metadata": {},
   "outputs": [
    {
     "name": "stdout",
     "output_type": "stream",
     "text": [
      "True\n",
      "True\n",
      "False\n"
     ]
    }
   ],
   "source": [
    "\n",
    "#9. What is the purpose of the `issubclass()` function in Python? Provide an example.\n",
    "\n",
    "#Answer   The issubclass() function checks if a class is a subclass of another class.\n",
    "#         It is used to verify the class hierarchy\n",
    "\n",
    "class Animal:\n",
    "    pass\n",
    "\n",
    "class Dog(Animal):\n",
    "    pass\n",
    "\n",
    "print(issubclass(Dog, Animal)) # True\n",
    "print(issubclass(Dog, object)) # True\n",
    "print(issubclass(Animal, Dog)) # False\n"
   ]
  },
  {
   "cell_type": "code",
   "execution_count": 203,
   "metadata": {},
   "outputs": [
    {
     "name": "stdout",
     "output_type": "stream",
     "text": [
      "Parent initialized with value: 10\n",
      "Child initialized with extra_value: 20\n"
     ]
    }
   ],
   "source": [
    "\n",
    "#10. Discuss the concept of constructor inheritance in Python. How are constructors inherited in child classes?\n",
    "\n",
    "#Answer    In Python, constructors (__init__ methods) are not automatically inherited. A child class must explicitly \n",
    "#          call the constructor of the parent class using super() or the parent class name to ensure that the parent\n",
    "#          class is properly initialized.\n",
    "\n",
    "class Parent:\n",
    "    def __init__(self, value):\n",
    "        self.value = value\n",
    "        print(f\"Parent initialized with value: {self.value}\")\n",
    "\n",
    "class Child(Parent):\n",
    "    def __init__(self, value, extra_value):\n",
    "        super().__init__(value)  # Call the parent class's constructor\n",
    "        self.extra_value = extra_value\n",
    "        print(f\"Child initialized with extra_value: {self.extra_value}\")\n",
    "\n",
    "child = Child(10, 20)\n",
    "\n",
    "\n"
   ]
  },
  {
   "cell_type": "code",
   "execution_count": 204,
   "metadata": {},
   "outputs": [
    {
     "name": "stdout",
     "output_type": "stream",
     "text": [
      "Area of the circle: 78.53981633974483\n",
      "Area of the rectangle: 24\n"
     ]
    }
   ],
   "source": [
    "#11. Create a Python class called `Shape` with a method `area()` that calculates the area of a shape. Then, create child classes `Circle` and `Rectangle` that inherit from `Shape` and implement the `area()` method\n",
    "#    accordingly. Provide an example.\n",
    "\n",
    "\n",
    "import math\n",
    "\n",
    "class Shape:\n",
    "    def area(self):\n",
    "        pass\n",
    "\n",
    "class Circle(Shape):\n",
    "    def __init__(self, radius):\n",
    "        self.radius = radius\n",
    "\n",
    "    def area(self):\n",
    "        return math.pi * self.radius ** 2\n",
    "\n",
    "class Rectangle(Shape):\n",
    "    def __init__(self, width, height):\n",
    "        self.width = width\n",
    "        self.height = height\n",
    "\n",
    "    def area(self):\n",
    "        return self.width * self.height\n",
    "\n",
    "circle = Circle(5)\n",
    "rectangle = Rectangle(4, 6)\n",
    "\n",
    "print(f\"Area of the circle: {circle.area()}\")\n",
    "print(f\"Area of the rectangle: {rectangle.area()}\")\n"
   ]
  },
  {
   "cell_type": "code",
   "execution_count": 205,
   "metadata": {},
   "outputs": [
    {
     "name": "stdout",
     "output_type": "stream",
     "text": [
      "Area of the circle: 78.53981633974483\n"
     ]
    }
   ],
   "source": [
    "#12. Explain the use of abstract base classes (ABCs) in Python and how they relate to inheritance. Provide an\n",
    "#    example using the `abc` module.\n",
    "\n",
    "#Answer  Abstract Base Classes (ABCs) are classes that cannot be instantiated and are meant to be subclassed.\n",
    "#        They provide a way to define methods that must be created within any child classes built from the abstract base class.\n",
    "\n",
    "\n",
    "from abc import ABC, abstractmethod\n",
    "\n",
    "class Shape(ABC):\n",
    "    @abstractmethod\n",
    "    def area(self):\n",
    "        pass\n",
    "\n",
    "class Circle(Shape):\n",
    "    def __init__(self, radius):\n",
    "        self.radius = radius\n",
    "\n",
    "    def area(self):\n",
    "        return math.pi * self.radius ** 2\n",
    "\n",
    "circle = Circle(5)\n",
    "print(f\"Area of the circle: {circle.area()}\")\n"
   ]
  },
  {
   "cell_type": "code",
   "execution_count": 206,
   "metadata": {},
   "outputs": [],
   "source": [
    "#13. How can you prevent a child class from modifying certain attributes or methods inherited from a parent\n",
    "#class in Python?\n",
    "\n",
    "\n",
    "#Answer  You can prevent modification by making attributes or methods private (using a double underscore prefix) or by defining properties without setters.\n",
    "\n",
    "class Parent:\n",
    "    def __init__(self):\n",
    "        self.__private_attribute = \"Cannot be modified\"\n",
    "\n",
    "    def __private_method(self):\n",
    "        print(\"This is a private method\")\n",
    "\n",
    "class Child(Parent):\n",
    "    def modify(self):\n",
    "        # This will raise an AttributeError\n",
    "        self.__private_attribute = \"Trying to modify\"\n",
    "\n",
    "child = Child()\n",
    "child.modify()\n"
   ]
  },
  {
   "cell_type": "code",
   "execution_count": 207,
   "metadata": {},
   "outputs": [
    {
     "name": "stdout",
     "output_type": "stream",
     "text": [
      "Name: Alice, Salary: 90000, Department: HR\n"
     ]
    }
   ],
   "source": [
    "#14. Create a Python class called `Employee` with attributes `name` and `salary`. Then, create a child class\n",
    "#    `Manager` that inherits from `Employee` and adds an attribute `department`. Provide an example.\n",
    "\n",
    "class Employee:\n",
    "    def __init__(self, name, salary):\n",
    "        self.name = name\n",
    "        self.salary = salary\n",
    "\n",
    "class Manager(Employee):\n",
    "    def __init__(self, name, salary, department):\n",
    "        super().__init__(name, salary)\n",
    "        self.department = department\n",
    "\n",
    "    def display_info(self):\n",
    "        print(f\"Name: {self.name}, Salary: {self.salary}, Department: {self.department}\")\n",
    "\n",
    "manager = Manager(\"Alice\", 90000, \"HR\")\n",
    "manager.display_info()\n",
    "\n"
   ]
  },
  {
   "cell_type": "code",
   "execution_count": 208,
   "metadata": {},
   "outputs": [
    {
     "name": "stdout",
     "output_type": "stream",
     "text": [
      "Hello from Child\n"
     ]
    }
   ],
   "source": [
    "#15. Discuss the concept of method overloading in Python inheritance. How does it differ from method\n",
    "#   overriding?\n",
    "\n",
    "#Answer  Method overloading refers to defining multiple methods with the same name but different signatures \n",
    "#        (parameter lists). Python does not support method overloading directly; instead, it uses default arguments and \n",
    "#        variable-length argument lists.\n",
    "\n",
    "#        Method overriding is when a child class provides a specific implementation of a method already defined in the parent class\n",
    "\n",
    "class Parent:\n",
    "    def greet(self):\n",
    "        print(\"Hello from Parent\")\n",
    "\n",
    "class Child(Parent):\n",
    "    def greet(self):\n",
    "        print(\"Hello from Child\")\n",
    "\n",
    "child = Child()\n",
    "child.greet()  # Outputs: Hello from Child\n",
    "\n"
   ]
  },
  {
   "cell_type": "code",
   "execution_count": 209,
   "metadata": {},
   "outputs": [
    {
     "name": "stdout",
     "output_type": "stream",
     "text": [
      "Name: Alice, Age: 30\n"
     ]
    }
   ],
   "source": [
    "#16. Explain the purpose of the `__init__()` method in Python inheritance and how it is utilized in child classes.\n",
    "\n",
    "#Answer  The __init__() method is the constructor method in Python, used to initialize the instance attributes of a class. In inheritance,\n",
    "#        child classes can override the __init__() method to initialize their own attributes, while also calling the\n",
    "#        parent class's __init__() method to initialize inherited attributes.\n",
    "\n",
    "class Parent:\n",
    "    def __init__(self, name):\n",
    "        self.name = name\n",
    "\n",
    "class Child(Parent):\n",
    "    def __init__(self, name, age):\n",
    "        super().__init__(name)\n",
    "        self.age = age\n",
    "\n",
    "child = Child(\"Alice\", 30)\n",
    "print(f\"Name: {child.name}, Age: {child.age}\")\n"
   ]
  },
  {
   "cell_type": "code",
   "execution_count": 210,
   "metadata": {},
   "outputs": [
    {
     "name": "stdout",
     "output_type": "stream",
     "text": [
      "Eagle flies high\n",
      "Sparrow flies low\n"
     ]
    }
   ],
   "source": [
    "#17. Create a Python class called `Bird` with a method `fly()`. Then, create child classes `Eagle` and `Sparrow` that inherit from `Bird` and implement the `fly()` method differently. Provide an example of using these\n",
    "#classes.\n",
    "\n",
    "class Bird:\n",
    "    def fly(self):\n",
    "        pass\n",
    "\n",
    "class Eagle(Bird):\n",
    "    def fly(self):\n",
    "        print(\"Eagle flies high\")\n",
    "\n",
    "class Sparrow(Bird):\n",
    "    def fly(self):\n",
    "        print(\"Sparrow flies low\")\n",
    "\n",
    "eagle = Eagle()\n",
    "sparrow = Sparrow()\n",
    "\n",
    "eagle.fly()\n",
    "sparrow.fly()\n",
    "\n"
   ]
  },
  {
   "cell_type": "code",
   "execution_count": 211,
   "metadata": {},
   "outputs": [
    {
     "name": "stdout",
     "output_type": "stream",
     "text": [
      "Hello from B\n",
      "[<class '__main__.D'>, <class '__main__.B'>, <class '__main__.C'>, <class '__main__.A'>, <class 'object'>]\n"
     ]
    }
   ],
   "source": [
    "#18. What is the \"diamond problem\" in multiple inheritance, and how does Python address it?\n",
    "\n",
    "#Answer  The \"diamond problem\" occurs in multiple inheritance when a class inherits from two classes\n",
    "#        that both inherit from a common base class, creating an ambiguity as to which class's method or attribute \n",
    "#        should be used. Python addresses this using the C3 linearization (or Method Resolution Order, MRO), which provides\n",
    "#        a consistent way to resolve such ambiguities\n",
    "\n",
    "class A:\n",
    "    def greet(self):\n",
    "        print(\"Hello from A\")\n",
    "\n",
    "class B(A):\n",
    "    def greet(self):\n",
    "        print(\"Hello from B\")\n",
    "\n",
    "class C(A):\n",
    "    def greet(self):\n",
    "        print(\"Hello from C\")\n",
    "\n",
    "class D(B, C):\n",
    "    pass\n",
    "\n",
    "d = D()\n",
    "d.greet()  # Outputs: Hello from B\n",
    "\n",
    "print(D.mro())\n",
    "# Outputs: [<class '__main__.D'>, <class '__main__.B'>, <class '__main__.C'>, <class '__main__.A'>, <class 'object'>]\n",
    "\n"
   ]
  },
  {
   "cell_type": "code",
   "execution_count": 212,
   "metadata": {},
   "outputs": [
    {
     "name": "stdout",
     "output_type": "stream",
     "text": [
      "True\n",
      "Engine starts\n"
     ]
    }
   ],
   "source": [
    "#19. Discuss the concept of \"is-a\" and \"has-a\" relationships in inheritance, and provide examples of each.\n",
    "\n",
    "#Answer   \"Is-a\" Relationship: Represents inheritance. A subclass \"is a\" type of its superclas\n",
    "\n",
    "class Animal:\n",
    "    pass\n",
    "\n",
    "class Dog(Animal):\n",
    "    pass\n",
    "\n",
    "# Dog is an Animal\n",
    "dog = Dog()\n",
    "print(isinstance(dog, Animal))  # True\n",
    "\n",
    "\n",
    "#\"Has-a\" Relationship: Represents composition. A class \"has a\" reference to another class\n",
    "class Engine:\n",
    "    def start(self):\n",
    "        print(\"Engine starts\")\n",
    "\n",
    "class Car:\n",
    "    def __init__(self):\n",
    "        self.engine = Engine()  # Car has an Engine\n",
    "\n",
    "    def start(self):\n",
    "        self.engine.start()\n",
    "\n",
    "car = Car()\n",
    "car.start()\n",
    "\n"
   ]
  },
  {
   "cell_type": "code",
   "execution_count": 213,
   "metadata": {},
   "outputs": [
    {
     "name": "stdout",
     "output_type": "stream",
     "text": [
      "Alice is studying\n",
      "Professor Dr. Smith is teaching in Computer Science department\n"
     ]
    }
   ],
   "source": [
    "#20. Create a Python class hierarchy for a university system. Start with a base class `Person` and create child\n",
    "#    classes `Student` and `Professor`, each with their own attributes and methods. Provide an example of using\n",
    "#    these classes in a university context.\n",
    "\n",
    "class Person:\n",
    "    def __init__(self, name, age):\n",
    "        self.name = name\n",
    "        self.age = age\n",
    "\n",
    "class Student(Person):\n",
    "    def __init__(self, name, age, student_id):\n",
    "        super().__init__(name, age)\n",
    "        self.student_id = student_id\n",
    "\n",
    "    def study(self):\n",
    "        print(f\"{self.name} is studying\")\n",
    "\n",
    "class Professor(Person):\n",
    "    def __init__(self, name, age, department):\n",
    "        super().__init__(name, age)\n",
    "        self.department = department\n",
    "\n",
    "    def teach(self):\n",
    "        print(f\"Professor {self.name} is teaching in {self.department} department\")\n",
    "\n",
    "student = Student(\"Alice\", 20, \"S12345\")\n",
    "professor = Professor(\"Dr. Smith\", 45, \"Computer Science\")\n",
    "\n",
    "student.study()\n",
    "professor.teach()\n"
   ]
  },
  {
   "cell_type": "code",
   "execution_count": 214,
   "metadata": {},
   "outputs": [],
   "source": [
    "#ENCAPSULATION: QUESTION"
   ]
  },
  {
   "cell_type": "code",
   "execution_count": 215,
   "metadata": {},
   "outputs": [],
   "source": [
    "#1. Explain the concept of encapsulation in Python. What is its role in object-oriented programming?\n",
    "#Answer  Encapsulation is an OOP concept where data (attributes) and methods (functions) are bundled\n",
    "#        together within a single unit, called a class. Encapsulation restricts direct access to some of an \n",
    "#        object's components, which can help prevent the accidental modification of data.\n"
   ]
  },
  {
   "cell_type": "code",
   "execution_count": 216,
   "metadata": {},
   "outputs": [],
   "source": [
    "#2. Describe the key principles of encapsulation, including access control and data hiding.\n",
    "#Answer  Access Control: This involves controlling the visibility of the class members.\n",
    "#                        By using access modifiers (public, protected, private), a class can expose or hide its\n",
    "#                        members from outside the class.\n",
    "\n",
    "#        Data Hiding: This is the practice of restricting access to certain details of an object.\n",
    "#                     Data hiding helps protect the integrity of the data by preventing unauthorized access and modification"
   ]
  },
  {
   "cell_type": "code",
   "execution_count": 217,
   "metadata": {},
   "outputs": [
    {
     "name": "stdout",
     "output_type": "stream",
     "text": [
      "10\n",
      "20\n"
     ]
    }
   ],
   "source": [
    "#3. How can you achieve encapsulation in Python classes? Provide an example.\n",
    "#Answer  By using private attributes and methods\n",
    "class EncapsulatedClass:\n",
    "    def __init__(self, value):\n",
    "        self.__private_value = value  # Private attribute\n",
    "\n",
    "    def get_value(self):\n",
    "        return self.__private_value  # Getter method\n",
    "\n",
    "    def set_value(self, value):\n",
    "        if value >= 0:\n",
    "            self.__private_value = value  # Setter method\n",
    "\n",
    "obj = EncapsulatedClass(10)\n",
    "print(obj.get_value())  # Output: 10\n",
    "obj.set_value(20)\n",
    "print(obj.get_value())  # Output: 20\n"
   ]
  },
  {
   "cell_type": "code",
   "execution_count": 218,
   "metadata": {},
   "outputs": [],
   "source": [
    "#4. Discuss the difference between public, private, and protected access modifiers in Python.\n",
    "\n",
    "#Answer  Public: Accessible from anywhere. No special syntax needed.\n",
    "#        Protected: Indicated by a single underscore (_). Intended to be accessible within the class and its subclasses.\n",
    "#        Private: Indicated by double underscores (__). Not accessible from outside the class; name mangling is used to prevent access"
   ]
  },
  {
   "cell_type": "code",
   "execution_count": 219,
   "metadata": {},
   "outputs": [
    {
     "name": "stdout",
     "output_type": "stream",
     "text": [
      "Alice\n",
      "Bob\n"
     ]
    }
   ],
   "source": [
    "\n",
    "#5. Create a Python class called `Person` with a private attribute `__name`. Provide methods to get and set the\n",
    "#   name attribute.\n",
    "\n",
    "class Person:\n",
    "    def __init__(self, name):\n",
    "        self.__name = name  # Private attribute\n",
    "\n",
    "    def get_name(self):\n",
    "        return self.__name  # Getter method\n",
    "\n",
    "    def set_name(self, name):\n",
    "        self.__name = name  # Setter method\n",
    "\n",
    "person = Person(\"Alice\")\n",
    "print(person.get_name())  # Output: Alice\n",
    "person.set_name(\"Bob\")\n",
    "print(person.get_name())  # Output: Bob\n",
    "\n"
   ]
  },
  {
   "cell_type": "code",
   "execution_count": 220,
   "metadata": {},
   "outputs": [
    {
     "name": "stdout",
     "output_type": "stream",
     "text": [
      "10\n",
      "20\n",
      "20\n"
     ]
    }
   ],
   "source": [
    "#6. Explain the purpose of getter and setter methods in encapsulation. Provide examples.\n",
    "\n",
    "#Answer  Getter and setter methods control access to the attributes of a class. Getters retrieve\n",
    "#        the value of an attribute, while setters modify the value. They ensure that the internal\n",
    "#        state of an object is maintained correctly and provide a way to validate input\n",
    "\n",
    "class MyClass:\n",
    "    def __init__(self, value):\n",
    "        self.__value = value\n",
    "\n",
    "    def get_value(self):\n",
    "        return self.__value\n",
    "\n",
    "    def set_value(self, value):\n",
    "        if value > 0:\n",
    "            self.__value = value\n",
    "\n",
    "obj = MyClass(10)\n",
    "print(obj.get_value())  # Output: 10\n",
    "obj.set_value(20)\n",
    "print(obj.get_value())  # Output: 20\n",
    "obj.set_value(-5)\n",
    "print(obj.get_value())  # Output: 20 (value not changed because it failed validation)\n",
    "\n"
   ]
  },
  {
   "cell_type": "code",
   "execution_count": 221,
   "metadata": {},
   "outputs": [
    {
     "name": "stdout",
     "output_type": "stream",
     "text": [
      "42\n"
     ]
    }
   ],
   "source": [
    "#7. What is name mangling in Python, and how does it affect encapsulation?\n",
    "\n",
    "#Answer  Name mangling is a process where Python changes the name of private attributes \n",
    "#        in a way that makes them harder to accidentally access. This is done by adding _ClassName prefix to the attribute name.\n",
    "#        It helps in encapsulation by protecting private attributes from being modified or accessed directly\n",
    "\n",
    "class MyClass:\n",
    "    def __init__(self):\n",
    "        self.__private_attribute = 42\n",
    "\n",
    "    def get_private_attribute(self):\n",
    "        return self.__private_attribute\n",
    "\n",
    "obj = MyClass()\n",
    "# print(obj.__private_attribute)  # AttributeError\n",
    "print(obj._MyClass__private_attribute)  # Output: 42 (name mangling)\n",
    "\n"
   ]
  },
  {
   "cell_type": "code",
   "execution_count": 222,
   "metadata": {},
   "outputs": [
    {
     "name": "stdout",
     "output_type": "stream",
     "text": [
      "Balance: 1300\n",
      "Account Number: 12345678\n"
     ]
    }
   ],
   "source": [
    "#8. Create a Python class called `BankAccount` with private attributes for the account balance (`__balance`) and account number (`__account_number`). Provide methods for depositing and withdrawing money.\n",
    "class BankAccount:\n",
    "    def __init__(self, account_number, balance=0):\n",
    "        self.__account_number = account_number  # Private attribute\n",
    "        self.__balance = balance  # Private attribute\n",
    "\n",
    "    def deposit(self, amount):\n",
    "        if amount > 0:\n",
    "            self.__balance += amount\n",
    "\n",
    "    def withdraw(self, amount):\n",
    "        if 0 < amount <= self.__balance:\n",
    "            self.__balance -= amount\n",
    "\n",
    "    def get_balance(self):\n",
    "        return self.__balance\n",
    "\n",
    "    def get_account_number(self):\n",
    "        return self.__account_number\n",
    "\n",
    "account = BankAccount(\"12345678\", 1000)\n",
    "account.deposit(500)\n",
    "account.withdraw(200)\n",
    "print(f\"Balance: {account.get_balance()}\")  # Output: Balance: 1300\n",
    "print(f\"Account Number: {account.get_account_number()}\")  # Output: Account Number: 12345678\n"
   ]
  },
  {
   "cell_type": "code",
   "execution_count": 223,
   "metadata": {},
   "outputs": [],
   "source": [
    "#9. Discuss the advantages of encapsulation in terms of code maintainability and security.\n",
    "\n",
    "#Answer  Code Maintainability: Encapsulation helps in organizing code by bundling data and methods\n",
    "#                              that operate on the data within a single unit (class). This modularity \n",
    "#                              makes the code easier to maintain and understand.\n",
    "\n",
    "#        Security:       By restricting access to internal attributes, encapsulation protects the integrity of the data.\n",
    "#                        It prevents external entities from modifying the state of an object in unintended ways, thus reducing bugs and ensuring data consistency\n"
   ]
  },
  {
   "cell_type": "code",
   "execution_count": 224,
   "metadata": {},
   "outputs": [
    {
     "name": "stdout",
     "output_type": "stream",
     "text": [
      "42\n"
     ]
    }
   ],
   "source": [
    "\n",
    "#10. How can you access private attributes in Python? Provide an example demonstrating the use of name\n",
    "#    mangling.\n",
    "\n",
    "#Answer  Private attributes can be accessed using name mangling. However, this should be avoided in practice \n",
    "#        as it breaks the encapsulation principle\n",
    "\n",
    "class MyClass:\n",
    "    def __init__(self):\n",
    "        self.__private_attribute = 42\n",
    "\n",
    "obj = MyClass()\n",
    "print(obj._MyClass__private_attribute)  # Output: 42\n",
    "\n"
   ]
  },
  {
   "cell_type": "code",
   "execution_count": 225,
   "metadata": {},
   "outputs": [
    {
     "name": "stdout",
     "output_type": "stream",
     "text": [
      "Math\n",
      "Dr. Smith\n",
      "['Alice', 'Bob']\n"
     ]
    }
   ],
   "source": [
    "\n",
    "#11. Create a Python class hierarchy for a school system, including classes for students, teachers, and courses,\n",
    "#    and implement encapsulation principles to protect sensitive information.\n",
    "\n",
    "class Person:\n",
    "    def __init__(self, name, age):\n",
    "        self.__name = name\n",
    "        self.__age = age\n",
    "\n",
    "    def get_name(self):\n",
    "        return self.__name\n",
    "\n",
    "    def get_age(self):\n",
    "        return self.__age\n",
    "\n",
    "class Student(Person):\n",
    "    def __init__(self, name, age, student_id):\n",
    "        super().__init__(name, age)\n",
    "        self.__student_id = student_id\n",
    "\n",
    "    def get_student_id(self):\n",
    "        return self.__student_id\n",
    "\n",
    "class Teacher(Person):\n",
    "    def __init__(self, name, age, employee_id):\n",
    "        super().__init__(name, age)\n",
    "        self.__employee_id = employee_id\n",
    "\n",
    "    def get_employee_id(self):\n",
    "        return self.__employee_id\n",
    "\n",
    "class Course:\n",
    "    def __init__(self, course_name, teacher):\n",
    "        self.__course_name = course_name\n",
    "        self.__teacher = teacher\n",
    "        self.__students = []\n",
    "\n",
    "    def add_student(self, student):\n",
    "        self.__students.append(student)\n",
    "\n",
    "    def get_course_name(self):\n",
    "        return self.__course_name\n",
    "\n",
    "    def get_teacher(self):\n",
    "        return self.__teacher\n",
    "\n",
    "    def get_students(self):\n",
    "        return self.__students\n",
    "\n",
    "# Example usage\n",
    "teacher = Teacher(\"Dr. Smith\", 45, \"T123\")\n",
    "student1 = Student(\"Alice\", 20, \"S123\")\n",
    "student2 = Student(\"Bob\", 21, \"S124\")\n",
    "\n",
    "course = Course(\"Math\", teacher)\n",
    "course.add_student(student1)\n",
    "course.add_student(student2)\n",
    "\n",
    "print(course.get_course_name())  # Output: Math\n",
    "print(course.get_teacher().get_name())  # Output: Dr. Smith\n",
    "print([student.get_name() for student in course.get_students()])  # Output: ['Alice', 'Bob']\n",
    "\n"
   ]
  },
  {
   "cell_type": "code",
   "execution_count": 226,
   "metadata": {},
   "outputs": [
    {
     "name": "stdout",
     "output_type": "stream",
     "text": [
      "10\n",
      "20\n"
     ]
    }
   ],
   "source": [
    "#12. Explain the concept of property decorators in Python and how they relate to encapsulation.\n",
    "\n",
    "#Answer  Property decorators (@property) provide a way to define methods in a class that can be accessed \n",
    "#        like attributes. They help in encapsulation by allowing controlled access to private attributes\n",
    "\n",
    "class MyClass:\n",
    "    def __init__(self, value):\n",
    "        self.__value = value\n",
    "\n",
    "    @property\n",
    "    def value(self):\n",
    "        return self.__value\n",
    "\n",
    "    @value.setter\n",
    "    def value(self, value):\n",
    "        if value > 0:\n",
    "            self.__value = value\n",
    "\n",
    "obj = MyClass(10)\n",
    "print(obj.value)  # Output: 10\n",
    "obj.value = 20\n",
    "print(obj.value)  # Output: 20\n",
    "\n"
   ]
  },
  {
   "cell_type": "code",
   "execution_count": 227,
   "metadata": {},
   "outputs": [
    {
     "name": "stdout",
     "output_type": "stream",
     "text": [
      "10\n",
      "20\n"
     ]
    }
   ],
   "source": [
    "#13. What is data hiding, and why is it important in encapsulation? Provide examples.\n",
    "\n",
    "#Answer  Data hiding involves restricting access to internal object data to protect it from \n",
    "#        unauthorized access and modification. It is important in encapsulation as it helps maintain\n",
    "#        the integrity and consistency of the data.\n",
    "\n",
    "class MyClass:\n",
    "    def __init__(self, value):\n",
    "        self.__hidden_value = value  # Private attribute\n",
    "\n",
    "    def get_value(self):\n",
    "        return self.__hidden_value\n",
    "\n",
    "    def set_value(self, value):\n",
    "        if value > 0:\n",
    "            self.__hidden_value = value\n",
    "\n",
    "obj = MyClass(10)\n",
    "print(obj.get_value())  # Output: 10\n",
    "obj.set_value(20)\n",
    "print(obj.get_value())  # Output: 20\n"
   ]
  },
  {
   "cell_type": "code",
   "execution_count": 228,
   "metadata": {},
   "outputs": [
    {
     "name": "stdout",
     "output_type": "stream",
     "text": [
      "5000.0\n"
     ]
    }
   ],
   "source": [
    "#14. Create a Python class called `Employee` with private attributes for salary (`__salary`) and employee ID (`__employee_id`). Provide a method to calculate yearly bonuses.\n",
    "class Employee:\n",
    "    def __init__(self, employee_id, salary):\n",
    "        self.__employee_id = employee_id  # Private attribute\n",
    "        self.__salary = salary  # Private attribute\n",
    "\n",
    "    def get_employee_id(self):\n",
    "        return self.__employee_id\n",
    "\n",
    "    def get_salary(self):\n",
    "        return self.__salary\n",
    "\n",
    "    def calculate_bonus(self, percentage):\n",
    "        return self.__salary * (percentage / 100)\n",
    "\n",
    "employee = Employee(\"E123\", 50000)\n",
    "print(employee.calculate_bonus(10))  # Output: 5000.0\n",
    "\n"
   ]
  },
  {
   "cell_type": "code",
   "execution_count": 229,
   "metadata": {},
   "outputs": [],
   "source": [
    "#15. Discuss the use of accessors and mutators in encapsulation. How do they help maintain control over\n",
    "#    attribute access?\n",
    "\n",
    "#Answer  Accessors (getter methods) and mutators (setter methods) are used to read and modify private attributes, respectively.\n",
    "#        They help maintain control over attribute access by allowing validation and additional logic to be implemented.\n"
   ]
  },
  {
   "cell_type": "code",
   "execution_count": 230,
   "metadata": {},
   "outputs": [],
   "source": [
    "#16. What are the potential drawbacks or disadvantages of using encapsulation in Python?\n",
    "\n",
    "#Answer  Performance Overhead: Using getter and setter methods can introduce a slight performance overhead compared to direct attribute access.\n",
    "#        Complexity: Encapsulation can add complexity to the code, making it harder to read and maintain, especially for small projects.\n",
    "#        Overhead in Simple Scenarios: For simple classes, the benefits of encapsulation might not outweigh the added complexity"
   ]
  },
  {
   "cell_type": "code",
   "execution_count": 231,
   "metadata": {},
   "outputs": [
    {
     "name": "stdout",
     "output_type": "stream",
     "text": [
      "1984\n",
      "George Orwell\n",
      "True\n",
      "False\n",
      "True\n"
     ]
    }
   ],
   "source": [
    "#17. Create a Python class for a library system that encapsulates book information, including titles, authors,\n",
    "#    and availability status.\n",
    "class Book:\n",
    "    def __init__(self, title, author):\n",
    "        self.__title = title  # Private attribute\n",
    "        self.__author = author  # Private attribute\n",
    "        self.__is_available = True  # Private attribute\n",
    "\n",
    "    def get_title(self):\n",
    "        return self.__title\n",
    "\n",
    "    def get_author(self):\n",
    "        return self.__author\n",
    "\n",
    "    def is_available(self):\n",
    "        return self.__is_available\n",
    "\n",
    "    def borrow(self):\n",
    "        if self.__is_available:\n",
    "            self.__is_available = False\n",
    "            return True\n",
    "        return False\n",
    "\n",
    "    def return_book(self):\n",
    "        self.__is_available = True\n",
    "\n",
    "book = Book(\"1984\", \"George Orwell\")\n",
    "print(book.get_title())  # Output: 1984\n",
    "print(book.get_author())  # Output: George Orwell\n",
    "print(book.is_available())  # Output: True\n",
    "book.borrow()\n",
    "print(book.is_available())  # Output: False\n",
    "book.return_book()\n",
    "print(book.is_available())  # Output: True\n"
   ]
  },
  {
   "cell_type": "code",
   "execution_count": 232,
   "metadata": {},
   "outputs": [],
   "source": [
    "#18. Explain how encapsulation enhances code reusability and modularity in Python programs.\n",
    "\n",
    "#Answer  Encapsulation enhances code reusability by bundling related data and methods into a \n",
    "#        single unit (class), which can be easily reused across different parts of a program or in different projects. \n",
    "#        It also enhances modularity by allowing developers to focus on individual components of the system without worrying\n",
    "#        about the internal details of other components."
   ]
  },
  {
   "cell_type": "code",
   "execution_count": 233,
   "metadata": {},
   "outputs": [],
   "source": [
    "#19. Describe the concept of information hiding in encapsulation. Why is it essential in software development?\n",
    "\n",
    "#Answer  Information hiding involves restricting access to the internal details of a class, exposing only what is necessary.\n",
    "#        It is essential in software development because it helps maintain the integrity of the data, reduces the risk of unintended modifications, \n",
    "#       and makes the system easier to understand and maintain"
   ]
  },
  {
   "cell_type": "code",
   "execution_count": 234,
   "metadata": {},
   "outputs": [
    {
     "name": "stdout",
     "output_type": "stream",
     "text": [
      "Alice\n",
      "123 Main St\n",
      "alice@example.com\n",
      "456 Elm St\n"
     ]
    }
   ],
   "source": [
    "#20. Create a Python class called `Customer` with private attributes for customer details like name, address,\n",
    "#    and contact information. Implement encapsulation to ensure data integrity and security.\n",
    "\n",
    "class Customer:\n",
    "    def __init__(self, name, address, contact_info):\n",
    "        self.__name = name  # Private attribute\n",
    "        self.__address = address  # Private attribute\n",
    "        self.__contact_info = contact_info  # Private attribute\n",
    "\n",
    "    def get_name(self):\n",
    "        return self.__name\n",
    "\n",
    "    def set_name(self, name):\n",
    "        self.__name = name\n",
    "\n",
    "    def get_address(self):\n",
    "        return self.__address\n",
    "\n",
    "    def set_address(self, address):\n",
    "        self.__address = address\n",
    "\n",
    "    def get_contact_info(self):\n",
    "        return self.__contact_info\n",
    "\n",
    "    def set_contact_info(self, contact_info):\n",
    "        self.__contact_info = contact_info\n",
    "\n",
    "customer = Customer(\"Alice\", \"123 Main St\", \"alice@example.com\")\n",
    "print(customer.get_name())  # Output: Alice\n",
    "print(customer.get_address())  # Output: 123 Main St\n",
    "print(customer.get_contact_info())  # Output: alice@example.com\n",
    "customer.set_address(\"456 Elm St\")\n",
    "print(customer.get_address())  # Output: 456 Elm St\n"
   ]
  },
  {
   "cell_type": "code",
   "execution_count": 235,
   "metadata": {},
   "outputs": [],
   "source": [
    "#POLYMORPHISM: QUESTIONS"
   ]
  },
  {
   "cell_type": "code",
   "execution_count": 236,
   "metadata": {},
   "outputs": [],
   "source": [
    "#1. What is polymorphism in Python? Explain how it is related to object-oriented programming.\n",
    "\n",
    "#Answer  Polymorphism in Python refers to the ability of different objects to respond to the same \n",
    "#        method call in different ways. It is a core concept in object-oriented programming (OOP) that allows \n",
    "#        objects of different classes to be treated as objects of a common superclass"
   ]
  },
  {
   "cell_type": "code",
   "execution_count": 237,
   "metadata": {},
   "outputs": [],
   "source": [
    "#2. Describe the difference between compile-time polymorphism and runtime polymorphism in Python.\n",
    "\n",
    "#Answer  Compile-time Polymorphism: Also known as static polymorphism, it is resolved during compile time.\n",
    "#                                   Examples include method overloading and operator overloading. Python does not \n",
    "#                                   support method overloading directly.\n",
    "\n",
    "#         Runtime Polymorphism: Also known as dynamic polymorphism, it is resolved during runtime. This is achieved \n",
    "#                               through method overriding where a subclass provides a specific implementation of a method already defined in its superclass."
   ]
  },
  {
   "cell_type": "code",
   "execution_count": 238,
   "metadata": {},
   "outputs": [
    {
     "name": "stdout",
     "output_type": "stream",
     "text": [
      "Area: 78.53981633974483\n",
      "Area: 16\n",
      "Area: 24.0\n"
     ]
    }
   ],
   "source": [
    "#3. Create a Python class hierarchy for shapes (e.g., circle, square, triangle) and demonstrate polymorphism\n",
    "#   through a common method, such as `calculate_area()`.\n",
    "\n",
    "from math import pi\n",
    "\n",
    "class Shape:\n",
    "    def calculate_area(self):\n",
    "        pass\n",
    "\n",
    "class Circle(Shape):\n",
    "    def __init__(self, radius):\n",
    "        self.radius = radius\n",
    "\n",
    "    def calculate_area(self):\n",
    "        return pi * self.radius ** 2\n",
    "\n",
    "class Square(Shape):\n",
    "    def __init__(self, side):\n",
    "        self.side = side\n",
    "\n",
    "    def calculate_area(self):\n",
    "        return self.side ** 2\n",
    "\n",
    "class Triangle(Shape):\n",
    "    def __init__(self, base, height):\n",
    "        self.base = base\n",
    "        self.height = height\n",
    "\n",
    "    def calculate_area(self):\n",
    "        return 0.5 * self.base * self.height\n",
    "\n",
    "shapes = [Circle(5), Square(4), Triangle(6, 8)]\n",
    "for shape in shapes:\n",
    "    print(f\"Area: {shape.calculate_area()}\")\n"
   ]
  },
  {
   "cell_type": "code",
   "execution_count": 239,
   "metadata": {},
   "outputs": [
    {
     "name": "stdout",
     "output_type": "stream",
     "text": [
      "Woof\n",
      "Meow\n"
     ]
    }
   ],
   "source": [
    "#4. Explain the concept of method overriding in polymorphism. Provide an example.\n",
    "\n",
    "#Answer  Method overriding occurs when a subclass provides a specific implementation for a \n",
    "#       method that is already defined in its superclass. This allows the subclass to provide \n",
    "#       its specific behavior for the method\n",
    "\n",
    "class Animal:\n",
    "    def speak(self):\n",
    "        pass\n",
    "\n",
    "class Dog(Animal):\n",
    "    def speak(self):\n",
    "        return \"Woof\"\n",
    "\n",
    "class Cat(Animal):\n",
    "    def speak(self):\n",
    "        return \"Meow\"\n",
    "\n",
    "animals = [Dog(), Cat()]\n",
    "for animal in animals:\n",
    "    print(animal.speak())\n",
    "\n"
   ]
  },
  {
   "cell_type": "code",
   "execution_count": 240,
   "metadata": {},
   "outputs": [
    {
     "name": "stdout",
     "output_type": "stream",
     "text": [
      "Sparrow flying\n",
      "Eagle soaring\n"
     ]
    }
   ],
   "source": [
    "#5. How is polymorphism different from method overloading in Python? Provide examples for both.\n",
    "\n",
    "#Answer  Polymorphism: Allows methods to be used interchangeably between different classes that \n",
    "#                      share a common interface.\n",
    "\n",
    "#Method Overloading: Not directly supported in Python. Achieved by defining methods with default \n",
    "#                    arguments or using variable-length arguments\n",
    "\n",
    "class Bird:\n",
    "    def fly(self):\n",
    "        pass\n",
    "\n",
    "class Sparrow(Bird):\n",
    "    def fly(self):\n",
    "        return \"Sparrow flying\"\n",
    "\n",
    "class Eagle(Bird):\n",
    "    def fly(self):\n",
    "        return \"Eagle soaring\"\n",
    "\n",
    "birds = [Sparrow(), Eagle()]\n",
    "for bird in birds:\n",
    "    print(bird.fly())\n"
   ]
  },
  {
   "cell_type": "code",
   "execution_count": 241,
   "metadata": {},
   "outputs": [
    {
     "name": "stdout",
     "output_type": "stream",
     "text": [
      "Woof\n",
      "Meow\n",
      "Tweet\n"
     ]
    }
   ],
   "source": [
    "#6. Create a Python class called `Animal` with a method `speak()`. Then, create child classes like `Dog`, `Cat`, and `Bird`, each with their own `speak()` method. Demonstrate polymorphism by calling the `speak()` method\n",
    "#   on objects of different subclasses.\n",
    "class Animal:\n",
    "    def speak(self):\n",
    "        pass\n",
    "\n",
    "class Dog(Animal):\n",
    "    def speak(self):\n",
    "        return \"Woof\"\n",
    "\n",
    "class Cat(Animal):\n",
    "    def speak(self):\n",
    "        return \"Meow\"\n",
    "\n",
    "class Bird(Animal):\n",
    "    def speak(self):\n",
    "        return \"Tweet\"\n",
    "\n",
    "animals = [Dog(), Cat(), Bird()]\n",
    "for animal in animals:\n",
    "    print(animal.speak())\n",
    "\n"
   ]
  },
  {
   "cell_type": "code",
   "execution_count": 242,
   "metadata": {},
   "outputs": [
    {
     "name": "stdout",
     "output_type": "stream",
     "text": [
      "Woof\n",
      "Meow\n"
     ]
    }
   ],
   "source": [
    "#7. Discuss the use of abstract methods and classes in achieving polymorphism in Python. Provide an example\n",
    "#   using the `abc` module.\n",
    "\n",
    "#Answer  Abstract methods and classes provide a blueprint for other classes. Abstract classes cannot be instantiated \n",
    "#        and must be subclassed, while abstract methods must be implemented in subclasses.\n",
    "\n",
    "from abc import ABC, abstractmethod\n",
    "\n",
    "class Animal(ABC):\n",
    "    @abstractmethod\n",
    "    def speak(self):\n",
    "        pass\n",
    "\n",
    "class Dog(Animal):\n",
    "    def speak(self):\n",
    "        return \"Woof\"\n",
    "\n",
    "class Cat(Animal):\n",
    "    def speak(self):\n",
    "        return \"Meow\"\n",
    "\n",
    "animals = [Dog(), Cat()]\n",
    "for animal in animals:\n",
    "    print(animal.speak())\n",
    "\n"
   ]
  },
  {
   "cell_type": "code",
   "execution_count": 243,
   "metadata": {},
   "outputs": [
    {
     "name": "stdout",
     "output_type": "stream",
     "text": [
      "Car engine starting\n",
      "Bicycle pedals moving\n",
      "Boat engine starting\n"
     ]
    }
   ],
   "source": [
    "#8. Create a Python class hierarchy for a vehicle system (e.g., car, bicycle, boat) and implement\n",
    "\n",
    "class Vehicle:\n",
    "    def start(self):\n",
    "        pass\n",
    "\n",
    "class Car(Vehicle):\n",
    "    def start(self):\n",
    "        return \"Car engine starting\"\n",
    "\n",
    "class Bicycle(Vehicle):\n",
    "    def start(self):\n",
    "        return \"Bicycle pedals moving\"\n",
    "\n",
    "class Boat(Vehicle):\n",
    "    def start(self):\n",
    "        return \"Boat engine starting\"\n",
    "\n",
    "vehicles = [Car(), Bicycle(), Boat()]\n",
    "for vehicle in vehicles:\n",
    "    print(vehicle.start())\n"
   ]
  },
  {
   "cell_type": "code",
   "execution_count": 244,
   "metadata": {},
   "outputs": [],
   "source": [
    "#9. Explain the significance of the `isinstance()` and `issubclass()` functions in Python polymorphism.\n",
    "\n",
    "#Answer  isinstance(): Checks if an object is an instance of a class or a tuple of classes. Useful for ensuring\n",
    "#                     that an object conforms to a certain interface or type.\n",
    "\n",
    "#        issubclass(): Checks if a class is a subclass of another class or a tuple of classes. Useful for checking class hierarchies."
   ]
  },
  {
   "cell_type": "code",
   "execution_count": 245,
   "metadata": {},
   "outputs": [
    {
     "name": "stdout",
     "output_type": "stream",
     "text": [
      "78.5\n"
     ]
    }
   ],
   "source": [
    "#10. What is the role of the `@abstractmethod` decorator in achieving polymorphism in Python? Provide an\n",
    "#    example.\n",
    "\n",
    "#Answer  The @abstractmethod decorator indicates that a method must be implemented by any subclass of the abstract class.\n",
    "#         It enforces a contract for subclasses, ensuring they implement the abstract method\n",
    "\n",
    "from abc import ABC, abstractmethod\n",
    "\n",
    "class Shape(ABC):\n",
    "    @abstractmethod\n",
    "    def area(self):\n",
    "        pass\n",
    "\n",
    "class Circle(Shape):\n",
    "    def __init__(self, radius):\n",
    "        self.radius = radius\n",
    "\n",
    "    def area(self):\n",
    "        return 3.14 * self.radius ** 2\n",
    "\n",
    "circle = Circle(5)\n",
    "print(circle.area())  # Output: 78.5\n",
    "\n"
   ]
  },
  {
   "cell_type": "code",
   "execution_count": 246,
   "metadata": {},
   "outputs": [
    {
     "name": "stdout",
     "output_type": "stream",
     "text": [
      "Area: 78.5\n",
      "Area: 24\n",
      "Area: 24.0\n"
     ]
    }
   ],
   "source": [
    "#11. Create a Python class called `Shape` with a polymorphic\n",
    "from abc import ABC, abstractmethod\n",
    "\n",
    "class Shape(ABC):\n",
    "    @abstractmethod\n",
    "    def area(self):\n",
    "        pass\n",
    "\n",
    "class Circle(Shape):\n",
    "    def __init__(self, radius):\n",
    "        self.radius = radius\n",
    "\n",
    "    def area(self):\n",
    "        return 3.14 * self.radius ** 2\n",
    "\n",
    "class Rectangle(Shape):\n",
    "    def __init__(self, width, height):\n",
    "        self.width = width\n",
    "        self.height = height\n",
    "\n",
    "    def area(self):\n",
    "        return self.width * self.height\n",
    "\n",
    "class Triangle(Shape):\n",
    "    def __init__(self, base, height):\n",
    "        self.base = base\n",
    "        self.height = height\n",
    "\n",
    "    def area(self):\n",
    "        return 0.5 * self.base * self.height\n",
    "\n",
    "shapes = [Circle(5), Rectangle(4, 6), Triangle(6, 8)]\n",
    "for shape in shapes:\n",
    "    print(f\"Area: {shape.area()}\")\n",
    "\n"
   ]
  },
  {
   "cell_type": "code",
   "execution_count": 247,
   "metadata": {},
   "outputs": [],
   "source": [
    "#12. Discuss the benefits of polymorphism in terms of code reusability and flexibility in Python programs.\n",
    "\n",
    "#Answer  Code Reusability: Polymorphism allows for writing more generic and reusable code. Methods can operate on objects of different classes without knowing their exact types.\n",
    "#        Flexibility: It enables the design of flexible systems where new object types can be introduced with minimal changes to existing code. This is achieved by ensuring that new types conform to a common interface or superclass."
   ]
  },
  {
   "cell_type": "code",
   "execution_count": 248,
   "metadata": {},
   "outputs": [
    {
     "name": "stdout",
     "output_type": "stream",
     "text": [
      "Animal sound Woof\n"
     ]
    }
   ],
   "source": [
    "#13. Explain the use of the `super()` function in Python polymorphism. How does it help call methods of parent\n",
    "#    classes?\n",
    "\n",
    "#Answer  The super() function returns a temporary object of the superclass, allowing you to call its methods. \n",
    "#        It is commonly used in method overriding to call a method of the parent class within the overriding method of the child class\n",
    "class Animal:\n",
    "    def speak(self):\n",
    "        return \"Animal sound\"\n",
    "\n",
    "class Dog(Animal):\n",
    "    def speak(self):\n",
    "        return super().speak() + \" Woof\"\n",
    "\n",
    "dog = Dog()\n",
    "print(dog.speak())  # Output: Animal sound Woof\n",
    "\n"
   ]
  },
  {
   "cell_type": "code",
   "execution_count": 249,
   "metadata": {},
   "outputs": [
    {
     "name": "stdout",
     "output_type": "stream",
     "text": [
      "Withdrew 200 + 20.0 fee. New balance: 780.0\n",
      "Withdrew 200. New balance: 1800\n",
      "Withdrew 200. Current debt: 300\n"
     ]
    }
   ],
   "source": [
    "#14. Create a Python class hierarchy for a banking system with various account types (e.g., savings, checking,\n",
    "\n",
    "class BankAccount:\n",
    "    def __init__(self, account_number, balance=0):\n",
    "        self.account_number = account_number\n",
    "        self.balance = balance\n",
    "\n",
    "    def deposit(self, amount):\n",
    "        self.balance += amount\n",
    "        print(f\"Deposited {amount}. New balance: {self.balance}\")\n",
    "\n",
    "    def withdraw(self, amount):\n",
    "        if amount <= self.balance:\n",
    "            self.balance -= amount\n",
    "            print(f\"Withdrew {amount}. New balance: {self.balance}\")\n",
    "        else:\n",
    "            print(\"Insufficient funds\")\n",
    "\n",
    "class SavingsAccount(BankAccount):\n",
    "    def __init__(self, account_number, balance=0):\n",
    "        super().__init__(account_number, balance)\n",
    "\n",
    "    def withdraw(self, amount):\n",
    "        withdrawal_fee = 0.1  # 10% fee for withdrawals from savings account\n",
    "        total_amount = amount + amount * withdrawal_fee\n",
    "        if total_amount <= self.balance:\n",
    "            self.balance -= total_amount\n",
    "            print(f\"Withdrew {amount} + {amount * withdrawal_fee} fee. New balance: {self.balance}\")\n",
    "        else:\n",
    "            print(\"Insufficient funds\")\n",
    "\n",
    "class CheckingAccount(BankAccount):\n",
    "    def __init__(self, account_number, balance=0):\n",
    "        super().__init__(account_number, balance)\n",
    "\n",
    "    def withdraw(self, amount):\n",
    "        if amount <= self.balance:\n",
    "            self.balance -= amount\n",
    "            print(f\"Withdrew {amount}. New balance: {self.balance}\")\n",
    "        else:\n",
    "            print(\"Insufficient funds\")\n",
    "\n",
    "class CreditCardAccount(BankAccount):\n",
    "    def __init__(self, account_number, balance=0, credit_limit=1000):\n",
    "        super().__init__(account_number, balance)\n",
    "        self.credit_limit = credit_limit\n",
    "\n",
    "    def withdraw(self, amount):\n",
    "        total_debt = self.balance + self.credit_limit\n",
    "        if amount <= total_debt:\n",
    "            self.balance -= amount\n",
    "            print(f\"Withdrew {amount}. Current debt: {self.balance}\")\n",
    "        else:\n",
    "            print(\"Exceeds credit limit\")\n",
    "\n",
    "# Example usage\n",
    "savings = SavingsAccount(\"SAV-123\", 1000)\n",
    "checking = CheckingAccount(\"CHK-456\", 2000)\n",
    "credit_card = CreditCardAccount(\"CC-789\", 500, 2000)\n",
    "\n",
    "accounts = [savings, checking, credit_card]\n",
    "for account in accounts:\n",
    "    account.withdraw(200)\n"
   ]
  },
  {
   "cell_type": "code",
   "execution_count": 250,
   "metadata": {},
   "outputs": [
    {
     "name": "stdout",
     "output_type": "stream",
     "text": [
      "(4, 6)\n"
     ]
    }
   ],
   "source": [
    "#15. Describe the concept of operator overloading in Python and how it relates to polymorphism. Provide\n",
    "#    examples using operators like `+` and `*`.\n",
    "\n",
    "#Answer  Operator overloading in Python allows operators such as +, -, *, /, etc., to be applied to objects\n",
    "#        of user-defined classes. This enables objects to behave like built-in types, providing flexibility \n",
    "#        and supporting polymorphism where different classes can respond to the same operator in different ways\n",
    "\n",
    "class Point:\n",
    "    def __init__(self, x, y):\n",
    "        self.x = x\n",
    "        self.y = y\n",
    "\n",
    "    # Overloading the + operator\n",
    "    def __add__(self, other):\n",
    "        return Point(self.x + other.x, self.y + other.y)\n",
    "\n",
    "    def __str__(self):\n",
    "        return f\"({self.x}, {self.y})\"\n",
    "\n",
    "# Usage\n",
    "p1 = Point(1, 2)\n",
    "p2 = Point(3, 4)\n",
    "p3 = p1 + p2  # Calls p1.__add__(p2)\n",
    "print(p3)  # Output: (4, 6)\n"
   ]
  },
  {
   "cell_type": "code",
   "execution_count": 251,
   "metadata": {},
   "outputs": [
    {
     "name": "stdout",
     "output_type": "stream",
     "text": [
      "Dog barks\n",
      "Cat meows\n"
     ]
    }
   ],
   "source": [
    "#16. What is dynamic polymorphism, and how is it achieved in Python?\n",
    "\n",
    "#Answer  Dynamic polymorphism in Python, also known as runtime polymorphism, \n",
    "#        allows methods to be overridden in subclasses, and the method to be called\n",
    "#        is determined at runtime based on the type of object. It is achieved through method \n",
    "#        overriding and the use of inheritance\n",
    "\n",
    "class Animal:\n",
    "    def speak(self):\n",
    "        print(\"Animal speaks\")\n",
    "\n",
    "class Dog(Animal):\n",
    "    def speak(self):\n",
    "        print(\"Dog barks\")\n",
    "\n",
    "class Cat(Animal):\n",
    "    def speak(self):\n",
    "        print(\"Cat meows\")\n",
    "\n",
    "# Polymorphic behavior\n",
    "animals = [Dog(), Cat()]\n",
    "for animal in animals:\n",
    "    animal.speak()  # Calls the speak() method of the respective subclass\n"
   ]
  },
  {
   "cell_type": "code",
   "execution_count": 252,
   "metadata": {},
   "outputs": [
    {
     "name": "stdout",
     "output_type": "stream",
     "text": [
      "John Doe's salary: $60000\n",
      "Jane Smith's salary: $72000.0\n",
      "Michael Johnson's salary: $75000\n"
     ]
    }
   ],
   "source": [
    "#17. Create a Python class hierarchy for employees in a company (e.g., manager, developer, designer) and impliment polyporphism through a\n",
    "#    common calculate_salary()\n",
    "\n",
    "class Employee:\n",
    "    def __init__(self, name, salary):\n",
    "        self.name = name\n",
    "        self.salary = salary\n",
    "\n",
    "    def calculate_salary(self):\n",
    "        return self.salary\n",
    "\n",
    "class Manager(Employee):\n",
    "    def __init__(self, name, salary, bonus):\n",
    "        super().__init__(name, salary)\n",
    "        self.bonus = bonus\n",
    "\n",
    "    def calculate_salary(self):\n",
    "        total_salary = super().calculate_salary()\n",
    "        return total_salary + self.bonus\n",
    "\n",
    "class Developer(Employee):\n",
    "    def __init__(self, name, salary, level):\n",
    "        super().__init__(name, salary)\n",
    "        self.level = level\n",
    "\n",
    "    def calculate_salary(self):\n",
    "        if self.level == \"Senior\":\n",
    "            return self.salary * 1.2  # Senior developers get a 20% bonus\n",
    "        else:\n",
    "            return self.salary\n",
    "\n",
    "class Designer(Employee):\n",
    "    def __init__(self, name, salary, experience):\n",
    "        super().__init__(name, salary)\n",
    "        self.experience = experience\n",
    "\n",
    "    def calculate_salary(self):\n",
    "        return self.salary + (self.experience * 1000)  # $1000 per year of experience\n",
    "\n",
    "# Usage\n",
    "manager = Manager(\"John Doe\", 50000, 10000)\n",
    "developer = Developer(\"Jane Smith\", 60000, \"Senior\")\n",
    "designer = Designer(\"Michael Johnson\", 70000, 5)\n",
    "\n",
    "employees = [manager, developer, designer]\n",
    "for employee in employees:\n",
    "    print(f\"{employee.name}'s salary: ${employee.calculate_salary()}\")\n"
   ]
  },
  {
   "cell_type": "code",
   "execution_count": 253,
   "metadata": {},
   "outputs": [
    {
     "name": "stdout",
     "output_type": "stream",
     "text": [
      "Dog barks\n",
      "Cat meows\n"
     ]
    }
   ],
   "source": [
    "#18. Discuss the concept of function pointers and how they can be used to achieve polymorphism in Python.\n",
    "\n",
    "#Answer  in Python, function pointers refer to references to functions or methods that can be passed around \n",
    "#        as arguments or stored in variables. This capability allows Python to achieve polymorphism through functions or\n",
    "#        methods that can behave differently based on the object they are applied to\n",
    "\n",
    "class Animal:\n",
    "    def speak(self):\n",
    "        pass\n",
    "\n",
    "class Dog(Animal):\n",
    "    def speak(self):\n",
    "        print(\"Dog barks\")\n",
    "\n",
    "class Cat(Animal):\n",
    "    def speak(self):\n",
    "        print(\"Cat meows\")\n",
    "\n",
    "def make_sound(animal):\n",
    "    animal.speak()\n",
    "\n",
    "# Polymorphic behavior using function pointers\n",
    "dog = Dog()\n",
    "cat = Cat()\n",
    "\n",
    "make_sound(dog)  # Output: Dog barks\n",
    "make_sound(cat)  # Output: Cat meows"
   ]
  },
  {
   "cell_type": "code",
   "execution_count": 254,
   "metadata": {},
   "outputs": [],
   "source": [
    "#19. Explain the role of interfaces and abstract classes in polymorphism, drawing comparisons between them.\n",
    "\n",
    "#Answer  Interfaces: In Python, interfaces are represented using abstract base classes (ABCs) from the abc module.\n",
    "#                   They define methods that must be implemented by their subclasses. An interface specifies a contract\n",
    "#                   for what methods a class must provide, without specifying how those methods are implemented\n",
    "\n",
    "from abc import ABC, abstractmethod\n",
    "\n",
    "class Shape(ABC):\n",
    "    @abstractmethod\n",
    "    def area(self):\n",
    "        pass\n",
    "\n",
    "class Circle(Shape):\n",
    "    def __init__(self, radius):\n",
    "        self.radius = radius\n",
    "\n",
    "    def area(self):\n",
    "        return 3.14 * self.radius ** 2\n",
    "    \n",
    "\n",
    "    # Abstract Classes: Abstract classes in Python are classes that cannot be instantiated directly and may \n",
    "    #                   contain abstract methods (methods without implementation). They serve as blueprints for other classes and \n",
    "    #                   enforce a structure for subclasses to follow\n",
    "\n"
   ]
  },
  {
   "cell_type": "code",
   "execution_count": 255,
   "metadata": {},
   "outputs": [
    {
     "name": "stdout",
     "output_type": "stream",
     "text": [
      "Simba says 'Roar'\n",
      "Dumbo says 'Trumpet'\n",
      "King Kong says 'Chatter'\n"
     ]
    }
   ],
   "source": [
    "#20. Create a Python class for a zoo simulation, demonstrating polymorphism with different\n",
    "\n",
    "class Animal:\n",
    "    def __init__(self, name):\n",
    "        self.name = name\n",
    "\n",
    "    def make_sound(self):\n",
    "        pass\n",
    "\n",
    "class Lion(Animal):\n",
    "    def make_sound(self):\n",
    "        return \"Roar\"\n",
    "\n",
    "class Elephant(Animal):\n",
    "    def make_sound(self):\n",
    "        return \"Trumpet\"\n",
    "\n",
    "class Monkey(Animal):\n",
    "    def make_sound(self):\n",
    "        return \"Chatter\"\n",
    "\n",
    "# Polymorphic behavior in a zoo simulation\n",
    "animals = [Lion(\"Simba\"), Elephant(\"Dumbo\"), Monkey(\"King Kong\")]\n",
    "for animal in animals:\n",
    "    print(f\"{animal.name} says '{animal.make_sound()}'\")\n"
   ]
  },
  {
   "cell_type": "code",
   "execution_count": 256,
   "metadata": {},
   "outputs": [],
   "source": [
    "#ABSTRACTION:"
   ]
  },
  {
   "cell_type": "code",
   "execution_count": 257,
   "metadata": {},
   "outputs": [],
   "source": [
    "#1. What is abstraction in Python, and how does it relate to object-oriented programming?\n",
    "\n",
    "#Answer  Abstraction in Python, as well as in object-oriented programming (OOP) more broadly, refers to the concept of hiding complex implementation\n",
    "#          details and showing only the essential features of the object. It allows programmers to focus on what an object does rather than how it does it. \n",
    "#          Abstraction is achieved through abstract classes, interfaces, and encapsulation.\n",
    "\n",
    "#  In Python:\n",
    "\n",
    "#  Abstract classes and interfaces define methods that must be implemented by subclasses but do not provide the implementation themselves.\n",
    "\n",
    "#  Encapsulation hides the internal state and requires interaction through defined methods.\n",
    "\n",
    "#  Abstraction helps in designing complex systems by breaking them into smaller, manageable parts, each responsible for its own functionality. \n",
    "#    This separation of concerns improves code readability, maintainability, and reusability"
   ]
  },
  {
   "cell_type": "code",
   "execution_count": 258,
   "metadata": {},
   "outputs": [],
   "source": [
    "#2. Describe the benefits of abstraction in terms of code organization and complexity reduction.\n",
    "\n",
    "#Answer  Simplifying complex systems: By abstracting away unnecessary details, developers can focus on essential features,\n",
    "#                                    making code easier to understand and maintain.\n",
    "\n",
    "#       Promoting code reusability: Abstract classes and interfaces define a blueprint that can be reused across different parts \n",
    "#                                   of the application or in different projects.\n",
    "#       Enhancing security: Encapsulation hides internal details, reducing the risk of unintended manipulation or access to sensitive data.\n",
    "#       Improving maintainability: Changes can be made to the implementation of an abstract class without affecting its usage in other parts of the code, \n",
    "#                                  as long as the interface remains consistent.\n",
    "\n",
    "#       Facilitating team collaboration: Abstraction provides a clear contract (through interfaces or abstract classes) that helps team members understand how different\n",
    "#                                        components of the system interact without needing to delve into each other's implementation details."
   ]
  },
  {
   "cell_type": "code",
   "execution_count": 259,
   "metadata": {},
   "outputs": [
    {
     "name": "stdout",
     "output_type": "stream",
     "text": [
      "Area of circle: 78.5\n",
      "Area of rectangle: 24\n"
     ]
    }
   ],
   "source": [
    "#3. Create a Python class called `Shape` with an abstract method `calculate_area()`. Then, create child classes (e.g., `Circle`, `Rectangle`) that implement the `calculate_area()` method. Provide an example of\n",
    "#   using these classes.\n",
    "\n",
    "from abc import ABC, abstractmethod\n",
    "\n",
    "class Shape(ABC):\n",
    "    @abstractmethod\n",
    "    def calculate_area(self):\n",
    "        pass\n",
    "\n",
    "class Circle(Shape):\n",
    "    def __init__(self, radius):\n",
    "        self.radius = radius\n",
    "\n",
    "    def calculate_area(self):\n",
    "        return 3.14 * self.radius ** 2\n",
    "\n",
    "class Rectangle(Shape):\n",
    "    def __init__(self, length, width):\n",
    "        self.length = length\n",
    "        self.width = width\n",
    "\n",
    "    def calculate_area(self):\n",
    "        return self.length * self.width\n",
    "\n",
    "# Example usage\n",
    "circle = Circle(5)\n",
    "print(f\"Area of circle: {circle.calculate_area()}\")  # Output: Area of circle: 78.5\n",
    "\n",
    "rectangle = Rectangle(4, 6)\n",
    "print(f\"Area of rectangle: {rectangle.calculate_area()}\")  # Output: Area of rectangle: 24\n",
    "\n"
   ]
  },
  {
   "cell_type": "code",
   "execution_count": 260,
   "metadata": {},
   "outputs": [
    {
     "name": "stdout",
     "output_type": "stream",
     "text": [
      "Woof!\n"
     ]
    }
   ],
   "source": [
    "#4. Explain the concept of abstract classes in Python and how they are defined using the `abc` module. Provide\n",
    "#    an example.\n",
    "\n",
    "#Answer  Abstract classes in Python are classes that cannot be instantiated directly and typically contain one or more \n",
    "#          abstract methods, which are methods declared but not implemented in the abstract class itself. They serve as blueprints \n",
    "#          for other classes, ensuring that subclasses implement certain methods\n",
    "\n",
    "from abc import ABC, abstractmethod\n",
    "\n",
    "class Animal(ABC):\n",
    "    @abstractmethod\n",
    "    def speak(self):\n",
    "        pass\n",
    "\n",
    "class Dog(Animal):\n",
    "    def speak(self):\n",
    "        return \"Woof!\"\n",
    "\n",
    "# Example usage\n",
    "dog = Dog()\n",
    "print(dog.speak())  # Output: Woof!\n",
    "\n"
   ]
  },
  {
   "cell_type": "code",
   "execution_count": 261,
   "metadata": {},
   "outputs": [],
   "source": [
    "#5. How do abstract classes differ from regular classes in Python? Discuss their use cases.\n",
    "\n",
    "#Answer  Abstract classes cannot be instantiated directly; they exist to be subclassed and provide a \n",
    "#                        structure for subclasses to follow by defining abstract methods.\n",
    "\n",
    "#        Regular classes can be instantiated directly and may or may not have all methods implemented.\n",
    "\n",
    "\n",
    "#           Use cases for abstract classes:\n",
    "\n",
    "#                          Ensuring that subclasses provide certain methods (like calculate_area() in shapes).\n",
    "#                          Defining a common interface for a group of related classes (like speak() in animals)"
   ]
  },
  {
   "cell_type": "code",
   "execution_count": 262,
   "metadata": {},
   "outputs": [
    {
     "name": "stdout",
     "output_type": "stream",
     "text": [
      "Initial balance: 1000\n",
      "Balance after deposit: 1500\n",
      "Balance after withdrawal: 1300\n"
     ]
    }
   ],
   "source": [
    "#6. Create a Python class for a bank account and demonstrate abstraction by hiding the account balance and\n",
    "#   providing methods to deposit and withdraw funds.\n",
    "class BankAccount:\n",
    "    def __init__(self, account_number, initial_balance=0):\n",
    "        self.account_number = account_number\n",
    "        self._balance = initial_balance  # Protected attribute\n",
    "\n",
    "    def deposit(self, amount):\n",
    "        self._balance += amount\n",
    "\n",
    "    def withdraw(self, amount):\n",
    "        if self._balance >= amount:\n",
    "            self._balance -= amount\n",
    "        else:\n",
    "            print(\"Insufficient funds\")\n",
    "\n",
    "    def get_balance(self):\n",
    "        return self._balance\n",
    "\n",
    "# Example usage\n",
    "account = BankAccount(\"12345\", 1000)\n",
    "print(f\"Initial balance: {account.get_balance()}\")  # Output: Initial balance: 1000\n",
    "account.deposit(500)\n",
    "print(f\"Balance after deposit: {account.get_balance()}\")  # Output: Balance after deposit: 1500\n",
    "account.withdraw(200)\n",
    "print(f\"Balance after withdrawal: {account.get_balance()}\")  # Output: Balance after withdrawal: 1300\n",
    "\n"
   ]
  },
  {
   "cell_type": "code",
   "execution_count": 263,
   "metadata": {},
   "outputs": [],
   "source": [
    "#7. Discuss the concept of interface classes in Python and their role in achieving abstraction.\n",
    "\n",
    "#Answer  Interface classes in Python are represented using abstract base classes (ABCs) from the abc module.\n",
    "#        They define a set of methods that must be implemented by their subclasses but do not provide implementations\n",
    "#         for those methods themselves. Interfaces enforce a contract for what methods a class must provide without specifying\n",
    "#         how those methods are implemented"
   ]
  },
  {
   "cell_type": "code",
   "execution_count": 264,
   "metadata": {},
   "outputs": [
    {
     "name": "stdout",
     "output_type": "stream",
     "text": [
      "Dog is eating\n",
      "Dog is sleeping\n",
      "Cat is eating\n",
      "Cat is sleeping\n"
     ]
    }
   ],
   "source": [
    "#8. Create a Python class hierarchy for animals and implement abstraction by defining common methods\n",
    "from abc import ABC, abstractmethod\n",
    "\n",
    "class Animal(ABC):\n",
    "    def __init__(self, name):\n",
    "        self.name = name\n",
    "\n",
    "    @abstractmethod\n",
    "    def eat(self):\n",
    "        pass\n",
    "\n",
    "    @abstractmethod\n",
    "    def sleep(self):\n",
    "        pass\n",
    "\n",
    "class Dog(Animal):\n",
    "    def eat(self):\n",
    "        return \"Dog is eating\"\n",
    "\n",
    "    def sleep(self):\n",
    "        return \"Dog is sleeping\"\n",
    "\n",
    "class Cat(Animal):\n",
    "    def eat(self):\n",
    "        return \"Cat is eating\"\n",
    "\n",
    "    def sleep(self):\n",
    "        return \"Cat is sleeping\"\n",
    "\n",
    "# Example usage\n",
    "dog = Dog(\"Buddy\")\n",
    "print(dog.eat())   # Output: Dog is eating\n",
    "print(dog.sleep()) # Output: Dog is sleeping\n",
    "\n",
    "cat = Cat(\"Whiskers\")\n",
    "print(cat.eat())   # Output: Cat is eating\n",
    "print(cat.sleep()) # Output: Cat is sleeping\n",
    "\n"
   ]
  },
  {
   "cell_type": "code",
   "execution_count": 265,
   "metadata": {},
   "outputs": [
    {
     "name": "stdout",
     "output_type": "stream",
     "text": [
      "Toyota\n"
     ]
    }
   ],
   "source": [
    "#9. Explain the significance of encapsulation in achieving abstraction. Provide examples.\n",
    "\n",
    "#Answer  Encapsulation in Python involves bundling the data (attributes) and methods that operate on \n",
    "#          the data into a single unit (a class). It helps in hiding the internal state of objects\n",
    "#          from the outside world and only exposing a controlled interface to interact with the object.\n",
    "#         This enhances abstraction by allowing objects to maintain their state and provide methods to operate on that state,\n",
    "#         without exposing the details of how those methods work\n",
    "\n",
    "class Car:\n",
    "    def __init__(self, make, model):\n",
    "        self._make = make  # Encapsulated attribute\n",
    "        self._model = model  # Encapsulated attribute\n",
    "\n",
    "    def get_make(self):  # Getter method\n",
    "        return self._make\n",
    "\n",
    "    def set_model(self, model):  # Setter method\n",
    "        self._model = model\n",
    "\n",
    "# Usage\n",
    "my_car = Car(\"Toyota\", \"Camry\")\n",
    "print(my_car.get_make())  # Output: Toyota\n",
    "my_car.set_model(\"Corolla\")\n"
   ]
  },
  {
   "cell_type": "code",
   "execution_count": 266,
   "metadata": {},
   "outputs": [],
   "source": [
    "#10. What is the purpose of abstract methods, and how do they enforce abstraction in Python classes?\n",
    "\n",
    "#Answer  Abstract methods are methods declared in an abstract class but not implemented in the abstract class itself.\n",
    "#        They must be implemented by subclasses, thereby enforcing a contract for what methods subclasses must provide. \n",
    "#        Abstract methods ensure that classes adhering to an interface or a type hierarchy provide certain functionalities, \n",
    "#        promoting code consistency and maintainability."
   ]
  },
  {
   "cell_type": "code",
   "execution_count": 267,
   "metadata": {},
   "outputs": [
    {
     "name": "stdout",
     "output_type": "stream",
     "text": [
      "Toyota Camry started\n",
      "Toyota Camry stopped\n",
      "Honda CBR started\n",
      "Honda CBR stopped\n"
     ]
    }
   ],
   "source": [
    "#11. Create a Python class for a vehicle system and demonstrate abstraction by defining common methods\n",
    "from abc import ABC, abstractmethod\n",
    "\n",
    "class Vehicle(ABC):\n",
    "    def __init__(self, brand, model):\n",
    "        self.brand = brand\n",
    "        self.model = model\n",
    "\n",
    "    @abstractmethod\n",
    "    def start(self):\n",
    "        pass\n",
    "\n",
    "    @abstractmethod\n",
    "    def stop(self):\n",
    "        pass\n",
    "\n",
    "class Car(Vehicle):\n",
    "    def start(self):\n",
    "        return f\"{self.brand} {self.model} started\"\n",
    "\n",
    "    def stop(self):\n",
    "        return f\"{self.brand} {self.model} stopped\"\n",
    "\n",
    "class Motorcycle(Vehicle):\n",
    "    def start(self):\n",
    "        return f\"{self.brand} {self.model} started\"\n",
    "\n",
    "    def stop(self):\n",
    "        return f\"{self.brand} {self.model} stopped\"\n",
    "\n",
    "# Example usage\n",
    "car = Car(\"Toyota\", \"Camry\")\n",
    "print(car.start())  # Output: Toyota Camry started\n",
    "print(car.stop())   # Output: Toyota Camry stopped\n",
    "\n",
    "motorcycle = Motorcycle(\"Honda\", \"CBR\")\n",
    "print(motorcycle.start())  # Output: Honda CBR started\n",
    "print(motorcycle.stop())   # Output: Honda CBR stopped\n"
   ]
  },
  {
   "cell_type": "code",
   "execution_count": 268,
   "metadata": {},
   "outputs": [
    {
     "name": "stdout",
     "output_type": "stream",
     "text": [
      "Area of circle: 78.5\n",
      "Area of rectangle: 24\n"
     ]
    }
   ],
   "source": [
    "#12. Describe the use of abstract properties in Python and how they can be employed in abstract classes.\n",
    "\n",
    "#Answer Abstract properties in Python are properties that must be implemented in subclasses but are not implemented\n",
    "#       in the abstract class itself. They ensure that subclasses provide a specific attribute or behavior\n",
    "\n",
    "from abc import ABC, abstractmethod\n",
    "\n",
    "class Shape(ABC):\n",
    "    @property\n",
    "    @abstractmethod\n",
    "    def area(self):\n",
    "        pass\n",
    "\n",
    "class Circle(Shape):\n",
    "    def __init__(self, radius):\n",
    "        self.radius = radius\n",
    "\n",
    "    @property\n",
    "    def area(self):\n",
    "        return 3.14 * self.radius ** 2\n",
    "\n",
    "class Rectangle(Shape):\n",
    "    def __init__(self, length, width):\n",
    "        self.length = length\n",
    "        self.width = width\n",
    "\n",
    "    @property\n",
    "    def area(self):\n",
    "        return self.length * self.width\n",
    "\n",
    "# Example usage\n",
    "circle = Circle(5)\n",
    "print(f\"Area of circle: {circle.area}\")  # Output: Area of circle: 78.5\n",
    "\n",
    "rectangle = Rectangle(4, 6)\n",
    "print(f\"Area of rectangle: {rectangle.area}\")  # Output: Area of rectangle: 24\n"
   ]
  },
  {
   "cell_type": "code",
   "execution_count": 269,
   "metadata": {},
   "outputs": [
    {
     "name": "stdout",
     "output_type": "stream",
     "text": [
      "Alice's salary: 80000\n",
      "Bob's salary: 60000\n",
      "Eve's salary: 70000\n"
     ]
    }
   ],
   "source": [
    "#13. Create a Python class hierarchy for employees in a company (e.g., manager, developer, designer) and by defining a common get_salary() method\n",
    "from abc import ABC, abstractmethod\n",
    "\n",
    "class Employee(ABC):\n",
    "    def __init__(self, name, emp_id):\n",
    "        self.name = name\n",
    "        self.emp_id = emp_id\n",
    "\n",
    "    @abstractmethod\n",
    "    def get_salary(self):\n",
    "        pass\n",
    "\n",
    "class Manager(Employee):\n",
    "    def __init__(self, name, emp_id, salary):\n",
    "        super().__init__(name, emp_id)\n",
    "        self.salary = salary\n",
    "\n",
    "    def get_salary(self):\n",
    "        return self.salary\n",
    "\n",
    "class Developer(Employee):\n",
    "    def __init__(self, name, emp_id, salary):\n",
    "        super().__init__(name, emp_id)\n",
    "        self.salary = salary\n",
    "\n",
    "    def get_salary(self):\n",
    "        return self.salary\n",
    "\n",
    "class Designer(Employee):\n",
    "    def __init__(self, name, emp_id, salary):\n",
    "        super().__init__(name, emp_id)\n",
    "        self.salary = salary\n",
    "\n",
    "    def get_salary(self):\n",
    "        return self.salary\n",
    "\n",
    "# Example usage\n",
    "manager = Manager(\"Alice\", 101, 80000)\n",
    "print(f\"{manager.name}'s salary: {manager.get_salary()}\")  # Output: Alice's salary: 80000\n",
    "\n",
    "developer = Developer(\"Bob\", 102, 60000)\n",
    "print(f\"{developer.name}'s salary: {developer.get_salary()}\")  # Output: Bob's salary: 60000\n",
    "\n",
    "designer = Designer(\"Eve\", 103, 70000)\n",
    "print(f\"{designer.name}'s salary: {designer.get_salary()}\")  # Output: Eve's salary: 70000\n",
    "\n"
   ]
  },
  {
   "cell_type": "code",
   "execution_count": 270,
   "metadata": {},
   "outputs": [],
   "source": [
    "#14. Discuss the differences between abstract classes and concrete classes in Python, including their\n",
    "#    instantiation.\n",
    "\n",
    "#Answer  Abstract classes:\n",
    "\n",
    "#          Cannot be instantiated directly.\n",
    "#          May contain abstract methods that must be implemented by subclasses.\n",
    "#          Used to define a blueprint or template for subclasses.\n",
    "#          Typically created using the abc module in Python.\n",
    "\n",
    "#      Concrete classes:\n",
    "\n",
    "#          Can be instantiated directly.\n",
    "#          Provide implementations for all methods, including inherited abstract methods.\n",
    "#          Can also have their own methods and attributes.\n",
    "#          Used to create objects directly for use in the application."
   ]
  },
  {
   "cell_type": "code",
   "execution_count": 271,
   "metadata": {},
   "outputs": [],
   "source": [
    "#15. Explain the concept of abstract data types (ADTs) and their role in achieving abstraction in Python.\n",
    "\n",
    "#Answer  Abstract Data Types (ADTs) are data structures that encapsulate data and operations on that data.\n",
    "#         They define the interface for data manipulation without specifying the implementation details. In Python, \n",
    "#         classes can be used to define ADTs by encapsulating data attributes and providing methods to operate on them, \n",
    "#         thereby abstracting away the internal details.\n",
    "\n",
    "#   ADTs help achieve abstraction by:\n",
    "\n",
    "#         Hiding implementation details.\n",
    "#         Providing a clear and consistent interface for data manipulation.\n",
    "#         Promoting code reusability and modularity."
   ]
  },
  {
   "cell_type": "code",
   "execution_count": 272,
   "metadata": {},
   "outputs": [
    {
     "name": "stdout",
     "output_type": "stream",
     "text": [
      "Laptop powered on\n",
      "Laptop shutdown\n",
      "Desktop powered on\n",
      "Desktop shutdown\n"
     ]
    }
   ],
   "source": [
    "#16. Create a Python class for a computer system, demonstrating abstraction by defining common methods\n",
    "from abc import ABC, abstractmethod\n",
    "\n",
    "class Computer(ABC):\n",
    "    @abstractmethod\n",
    "    def power_on(self):\n",
    "        pass\n",
    "\n",
    "    @abstractmethod\n",
    "    def shutdown(self):\n",
    "        pass\n",
    "\n",
    "class Laptop(Computer):\n",
    "    def power_on(self):\n",
    "        return \"Laptop powered on\"\n",
    "\n",
    "    def shutdown(self):\n",
    "        return \"Laptop shutdown\"\n",
    "\n",
    "class Desktop(Computer):\n",
    "    def power_on(self):\n",
    "        return \"Desktop powered on\"\n",
    "\n",
    "    def shutdown(self):\n",
    "        return \"Desktop shutdown\"\n",
    "\n",
    "# Example usage\n",
    "laptop = Laptop()\n",
    "print(laptop.power_on())  # Output: Laptop powered on\n",
    "print(laptop.shutdown())  # Output: Laptop shutdown\n",
    "\n",
    "desktop = Desktop()\n",
    "print(desktop.power_on())  # Output: Desktop powered on\n",
    "print(desktop.shutdown())  # Output: Desktop shutdown\n"
   ]
  },
  {
   "cell_type": "code",
   "execution_count": 273,
   "metadata": {},
   "outputs": [],
   "source": [
    "#17. Discuss the benefits of using abstraction in large-scale software development projects.\n",
    "\n",
    "#Answer  \n",
    "#      Simplicity and Manageability: Abstraction allows complex systems to be broken down into simpler, \n",
    "#                                   more manageable components. Each component focuses on its specific functionality without exposing \n",
    "#                                  unnecessary details, making the overall system easier to understand, develop, and maintain.\n",
    "\n",
    "#       Code Reusability: Abstract classes and interfaces define blueprints that can be reused across different parts of the application or in \n",
    "#                         future projects. This reduces redundancy and promotes efficient development practices.\n",
    "\n",
    "#       Flexibility and Scalability: Abstraction enables developers to change or extend the functionality of a system without impacting other parts\n",
    "#                                   of the codebase. This flexibility is crucial in adapting to evolving requirements and scaling the software as the project grows.\n",
    "\n",
    "#       Security and Encapsulation: Encapsulation, a form of abstraction, hides implementation details and protects critical data from unauthorized access or manipulation.\n",
    "#                                   This enhances security by enforcing controlled access to sensitive information.\n",
    "\n",
    "#        Collaboration and Teamwork: Abstract interfaces provide clear contracts between different components of the system, facilitating collaboration among team members.\n",
    "#                                    Teams can work independently on different parts of the system, ensuring compatibility and integration through well-defined interfaces.\n"
   ]
  },
  {
   "cell_type": "code",
   "execution_count": 274,
   "metadata": {},
   "outputs": [],
   "source": [
    "#18. Explain how abstraction enhances code reusability and modularity in Python programs.\n",
    "\n",
    "#Answer  \n",
    "#        Abstract Classes and Interfaces: Abstract classes define methods that must be implemented by subclasses. By defining common behaviors in abstract classes,\n",
    "#                                      developers can create reusable components that can be extended and specialized as needed.\n",
    "\n",
    "#        Encapsulation: Encapsulation hides the internal state and implementation details of objects, exposing only the necessary interfaces. This separation of concerns\n",
    "#                      allows modules to interact through well-defined interfaces, promoting modularity and reducing interdependencies.\n",
    "\n",
    "#        Inheritance and Polymorphism: Inheritance allows subclasses to inherit and reuse behaviors and attributes from their parent classes. Polymorphism enables objects\n",
    "#                                     of different classes to be treated as instances of a common superclass, enhancing flexibility and promoting code reuse.\n",
    "\n",
    "#        Interface Design: Abstracting interfaces from implementations allows different parts of the system to interact through well-defined contracts. This decouples components,\n",
    "#                          making them easier to test, maintain, and reuse in various contexts.\n",
    "\n",
    "#        Separation of Concerns: Abstraction helps in breaking down complex systems into smaller, more manageable parts. Each part focuses on specific functionality, promoting modular \n",
    "#                                design and making it easier to update or replace components without affecting the entire system."
   ]
  },
  {
   "cell_type": "code",
   "execution_count": 275,
   "metadata": {},
   "outputs": [
    {
     "name": "stdout",
     "output_type": "stream",
     "text": [
      "Book 'Python Programming' by Guido van Rossum added to the library.\n",
      "Book 'Python Programming' by Guido van Rossum borrowed.\n",
      "DVD 'Introduction to Algorithms' by Thomas H. Cormen added to the library.\n",
      "DVD 'Introduction to Algorithms' by Thomas H. Cormen borrowed.\n"
     ]
    }
   ],
   "source": [
    "#19. Create a Python class for a library system, implementing abstraction by defining common methods (e.g.,add_book(),borrow_book()) in an abstract base class.\n",
    "\n",
    "from abc import ABC, abstractmethod\n",
    "\n",
    "class LibraryItem(ABC):\n",
    "    def __init__(self, title, author):\n",
    "        self.title = title\n",
    "        self.author = author\n",
    "        self.checked_out = False\n",
    "\n",
    "    @abstractmethod\n",
    "    def add_item(self):\n",
    "        pass\n",
    "\n",
    "    @abstractmethod\n",
    "    def borrow_item(self):\n",
    "        pass\n",
    "\n",
    "class Book(LibraryItem):\n",
    "    def add_item(self):\n",
    "        # Logic to add a book to the library system\n",
    "        print(f\"Book '{self.title}' by {self.author} added to the library.\")\n",
    "\n",
    "    def borrow_item(self):\n",
    "        if not self.checked_out:\n",
    "            self.checked_out = True\n",
    "            print(f\"Book '{self.title}' by {self.author} borrowed.\")\n",
    "        else:\n",
    "            print(f\"Book '{self.title}' is already checked out.\")\n",
    "\n",
    "class DVD(LibraryItem):\n",
    "    def add_item(self):\n",
    "        # Logic to add a DVD to the library system\n",
    "        print(f\"DVD '{self.title}' by {self.author} added to the library.\")\n",
    "\n",
    "    def borrow_item(self):\n",
    "        if not self.checked_out:\n",
    "            self.checked_out = True\n",
    "            print(f\"DVD '{self.title}' by {self.author} borrowed.\")\n",
    "        else:\n",
    "            print(f\"DVD '{self.title}' is already checked out.\")\n",
    "\n",
    "# Example usage\n",
    "book = Book(\"Python Programming\", \"Guido van Rossum\")\n",
    "book.add_item()      # Output: Book 'Python Programming' by Guido van Rossum added to the library.\n",
    "book.borrow_item()   # Output: Book 'Python Programming' by Guido van Rossum borrowed.\n",
    "\n",
    "dvd = DVD(\"Introduction to Algorithms\", \"Thomas H. Cormen\")\n",
    "dvd.add_item()       # Output: DVD 'Introduction to Algorithms' by Thomas H. Cormen added to the library.\n",
    "dvd.borrow_item()    # Output: DVD 'Introduction to Algorithms' by Thomas H. Cormen borrowed.\n"
   ]
  },
  {
   "cell_type": "code",
   "execution_count": 276,
   "metadata": {},
   "outputs": [],
   "source": [
    "#20. Describe the concept of method abstraction in Python and how it relates to polymorphism.\n",
    "\n",
    "#Answer  Method abstraction in Python involves defining methods in a superclass (abstract class) without implementing them, \n",
    "#        leaving the implementation to the subclasses. This allows different subclasses to provide their own specific implementation\n",
    "#        while adhering to a common method signature defined in the superclass.\n",
    "\n",
    "#       Relation to Polymorphism:\n",
    "\n",
    "#             Polymorphism refers to the ability of different objects to respond to the same method call in different ways.\n",
    "#             Method abstraction facilitates polymorphism by providing a common interface (method signature) that multiple subclasses can implement differently.\n",
    "#             When a method is called on an object, Python's dynamic dispatch mechanism ensures that the correct implementation of the method (defined in the subclass)\n",
    "#             is executed based on the object's type."
   ]
  },
  {
   "cell_type": "code",
   "execution_count": 277,
   "metadata": {},
   "outputs": [],
   "source": [
    "#COMPOSITION:"
   ]
  },
  {
   "cell_type": "code",
   "execution_count": 278,
   "metadata": {},
   "outputs": [],
   "source": [
    "#1. Explain the concept of composition in Python and how it is used to build complex objects from simpler ones.\n",
    "\n",
    "#Answer  Composition in Python: Composition is a design principle where a class contains objects of another class, \n",
    "#                               forming a \"has-a\" relationship. It allows building complex objects by combining simpler ones. \n",
    "#                               For example, a Car class may have a Engine object, Wheel objects, etc., as its components"
   ]
  },
  {
   "cell_type": "code",
   "execution_count": 279,
   "metadata": {},
   "outputs": [],
   "source": [
    "#2. Describe the difference between composition and inheritance in object-oriented programming.\n",
    "\n",
    "#Answer  Composition: Objects are combined to create a new object. It emphasizes containment or \"has-a\" relationships.\n",
    "#        Inheritance: Classes inherit attributes and behaviors from another class. It emphasizes an \"is-a\" relationship,\n",
    "#                     where a subclass is a type of its superclass"
   ]
  },
  {
   "cell_type": "code",
   "execution_count": 280,
   "metadata": {},
   "outputs": [],
   "source": [
    "#3. Create a Python class called `Author` with attributes for name and birthdate. Then, create a `Book` class\n",
    "#   that contains an instance of `Author` as a composition. Provide an example of creating a `Book` object.\n",
    "\n",
    "class Author:\n",
    "    def __init__(self, name, birthdate):\n",
    "        self.name = name\n",
    "        self.birthdate = birthdate\n",
    "\n",
    "class Book:\n",
    "    def __init__(self, title, author, year):\n",
    "        self.title = title\n",
    "        self.author = author  # Author object as composition\n",
    "        self.year = year\n",
    "\n",
    "# Example usage:\n",
    "author1 = Author(\"J.K. Rowling\", \"July 31, 1965\")\n",
    "book1 = Book(\"Harry Potter and the Philosopher's Stone\", author1, 1997)\n",
    "\n"
   ]
  },
  {
   "cell_type": "code",
   "execution_count": 281,
   "metadata": {},
   "outputs": [],
   "source": [
    "#4. Discuss the benefits of using composition over inheritance in Python, especially in terms of code flexibility\n",
    "#   and reusability.\n",
    "\n",
    "#Answer \n",
    "\n",
    "#      Flexibility: Objects can change dynamically at runtime.\n",
    "#      Modularity: Encourages building smaller, reusable components.\n",
    "#      Reduced Coupling: Objects can be replaced without affecting others."
   ]
  },
  {
   "cell_type": "code",
   "execution_count": 282,
   "metadata": {},
   "outputs": [],
   "source": [
    "#5. How can you implement composition in Python classes? Provide examples of using composition to create\n",
    "#   complex objects.\n",
    "\n",
    "#Answer  \n",
    "class Car:\n",
    "    def __init__(self, engine, wheels, transmission):\n",
    "        self.engine = engine\n",
    "        self.wheels = wheels\n",
    "        self.transmission = transmission\n",
    "\n",
    "class Engine:\n",
    "    pass\n",
    "\n",
    "class Wheel:\n",
    "    pass\n",
    "\n",
    "class Transmission:\n",
    "    pass\n",
    "\n",
    "# Example usage:\n",
    "car = Car(Engine(), [Wheel() for _ in range(4)], Transmission())\n"
   ]
  },
  {
   "cell_type": "code",
   "execution_count": 283,
   "metadata": {},
   "outputs": [],
   "source": [
    "#6. Create a Python class hierarchy for a music player system, using composition to represent playlists and\n",
    "#   songs.\n",
    "\n",
    "class Song:\n",
    "    pass\n",
    "\n",
    "class Playlist:\n",
    "    def __init__(self):\n",
    "        self.songs = []\n",
    "\n",
    "class MusicPlayer:\n",
    "    def __init__(self):\n",
    "        self.playlist = Playlist()\n",
    "        self.current_song = None\n",
    "\n",
    "# Example usage:\n",
    "player = MusicPlayer()\n",
    "player.playlist.songs.append(Song())\n",
    "\n"
   ]
  },
  {
   "cell_type": "code",
   "execution_count": 284,
   "metadata": {},
   "outputs": [],
   "source": [
    "#7. Explain the concept of \"has-a\" relationships in composition and how it helps design software systems.\n",
    "\n",
    "#Answer  \"Has-a\" relationships describe how objects are composed of other objects, which helps in modular and flexible design"
   ]
  },
  {
   "cell_type": "code",
   "execution_count": 285,
   "metadata": {},
   "outputs": [],
   "source": [
    "#8. Create a Python class for a computer system, using composition to represent components like CPU, RAM,\n",
    "#   and storage devices.\n",
    "\n",
    "class CPU:\n",
    "    pass\n",
    "\n",
    "class RAM:\n",
    "    pass\n",
    "\n",
    "class Storage:\n",
    "    pass\n",
    "\n",
    "class Computer:\n",
    "    def __init__(self):\n",
    "        self.cpu = CPU()\n",
    "        self.ram = RAM()\n",
    "        self.storage = Storage()\n",
    "\n",
    "# Example usage:\n",
    "pc = Computer()\n"
   ]
  },
  {
   "cell_type": "code",
   "execution_count": 286,
   "metadata": {},
   "outputs": [],
   "source": [
    "#9. Describe the concept of \"delegation\" in composition and how it simplifies the design of complex systems.\n",
    "\n",
    "#Answer  Delegation refers to passing responsibility for a task to another object. It simplifies complex systems\n",
    "#        by breaking them into smaller parts.\n"
   ]
  },
  {
   "cell_type": "code",
   "execution_count": 287,
   "metadata": {},
   "outputs": [],
   "source": [
    "#10. Create a Python class for a car, using composition to represent components like the engine, wheels, and\n",
    "#    transmission.\n",
    "\n",
    "class Engine:\n",
    "    pass\n",
    "\n",
    "class Wheel:\n",
    "    pass\n",
    "\n",
    "class Transmission:\n",
    "    pass\n",
    "\n",
    "class Car:\n",
    "    def __init__(self):\n",
    "        self.engine = Engine()\n",
    "        self.wheels = [Wheel() for _ in range(4)]\n",
    "        self.transmission = Transmission()\n",
    "\n",
    "# Example usage:\n",
    "car = Car()\n"
   ]
  },
  {
   "cell_type": "code",
   "execution_count": 288,
   "metadata": {},
   "outputs": [],
   "source": [
    "#11. How can you encapsulate and hide the details of composed objects in Python classes to maintain\n",
    "#    abstraction?\n",
    "\n",
    "#Answer  Encapsulation hides the internal details of composed objects, ensuring that their implementation\n",
    "#        details are abstracted away"
   ]
  },
  {
   "cell_type": "code",
   "execution_count": 289,
   "metadata": {},
   "outputs": [],
   "source": [
    "#12. Create a Python class for a university course, using composition to represent students, instructors, and\n",
    "#    course materials.\n",
    "\n",
    "class Student:\n",
    "    pass\n",
    "\n",
    "class Instructor:\n",
    "    pass\n",
    "\n",
    "class Course:\n",
    "    def __init__(self):\n",
    "        self.students = []\n",
    "        self.instructor = Instructor()\n",
    "\n",
    "# Example usage:\n",
    "course = Course()\n",
    "course.students.append(Student())\n"
   ]
  },
  {
   "cell_type": "code",
   "execution_count": 290,
   "metadata": {},
   "outputs": [],
   "source": [
    "#13. Discuss the challenges and drawbacks of composition, such as increased complexity and potential for\n",
    "#    tight coupling between objects.\n",
    "\n",
    "#Answer  Increased Complexity: Managing multiple objects can be more complex than inheriting from a single class.\n",
    "#         Potential Tight Coupling: Objects may be tightly coupled if not designed carefully"
   ]
  },
  {
   "cell_type": "code",
   "execution_count": 291,
   "metadata": {},
   "outputs": [],
   "source": [
    "#14. Create a Python class hierarchy for a restaurant system, using composition to represent menus, dishes,\n",
    "#    and ingredients.\n",
    "\n",
    "class Ingredient:\n",
    "    pass\n",
    "\n",
    "class Dish:\n",
    "    def __init__(self):\n",
    "        self.ingredients = []\n",
    "\n",
    "class Menu:\n",
    "    def __init__(self):\n",
    "        self.dishes = []\n",
    "\n",
    "# Example usage:\n",
    "menu = Menu()\n",
    "menu.dishes.append(Dish())\n",
    "\n"
   ]
  },
  {
   "cell_type": "code",
   "execution_count": 292,
   "metadata": {},
   "outputs": [],
   "source": [
    "#15. Explain how composition enhances code maintainability and modularity in Python programs.\n",
    "\n",
    "#Answer  Composition promotes modular design, making it easier to maintain and extend code by separating \n",
    "#        concerns into smaller, manageable components"
   ]
  },
  {
   "cell_type": "code",
   "execution_count": 293,
   "metadata": {},
   "outputs": [],
   "source": [
    "#16. Create a Python class for a computer game character, using composition to represent attributes like\n",
    "#    weapons, armor, and inventory.\n",
    "class Weapon:\n",
    "    pass\n",
    "\n",
    "class Armor:\n",
    "    pass\n",
    "\n",
    "class Inventory:\n",
    "    pass\n",
    "\n",
    "class Character:\n",
    "    def __init__(self):\n",
    "        self.weapon = Weapon()\n",
    "        self.armor = Armor()\n",
    "        self.inventory = Inventory()\n",
    "\n",
    "# Example usage:\n",
    "player = Character()\n",
    "\n"
   ]
  },
  {
   "cell_type": "code",
   "execution_count": 294,
   "metadata": {},
   "outputs": [],
   "source": [
    "#17. Describe the concept of \"aggregation\" in composition and how it differs from simple composition.\n",
    "\n",
    "#Answer  Aggregation is a form of composition where the objects have an independent lifecycle but are associated\n",
    "#        with each other. It differs from simple composition where the objects are strongly tied together."
   ]
  },
  {
   "cell_type": "code",
   "execution_count": 295,
   "metadata": {},
   "outputs": [],
   "source": [
    "#18. Create a Python class for a house, using composition to represent rooms, furniture, and appliances.\n",
    "class Room:\n",
    "    def __init__(self):\n",
    "        self.furniture = []\n",
    "        self.appliances = []\n",
    "\n",
    "class House:\n",
    "    def __init__(self):\n",
    "        self.rooms = [Room() for _ in range(5)]\n",
    "\n",
    "# Example usage:\n",
    "house = House()\n",
    "\n"
   ]
  },
  {
   "cell_type": "code",
   "execution_count": 296,
   "metadata": {},
   "outputs": [],
   "source": [
    "#19. How can you achieve flexibility in composed objects by allowing them to be replaced or modified\n",
    "#    dynamically at runtime?\n",
    "\n",
    "#Answer  Flexibility is achieved by allowing objects to be replaced or modified dynamically at runtime, \n",
    "#        adapting to changing requirements\n",
    "\n"
   ]
  },
  {
   "cell_type": "code",
   "execution_count": 297,
   "metadata": {},
   "outputs": [],
   "source": [
    "#20. Create a Python class for a social media application, using composition to represent users, posts, and\n",
    "#    comments.\n",
    "\n",
    "class Post:\n",
    "    pass\n",
    "\n",
    "class Comment:\n",
    "    pass\n",
    "\n",
    "class User:\n",
    "    def __init__(self):\n",
    "        self.posts = []\n",
    "        self.comments = []\n",
    "\n",
    "# Example usage:\n",
    "user = User()\n",
    "user.posts.append(Post())\n",
    "user.comments.append(Comment())\n",
    "\n"
   ]
  }
 ],
 "metadata": {
  "kernelspec": {
   "display_name": "Python 3",
   "language": "python",
   "name": "python3"
  },
  "language_info": {
   "codemirror_mode": {
    "name": "ipython",
    "version": 3
   },
   "file_extension": ".py",
   "mimetype": "text/x-python",
   "name": "python",
   "nbconvert_exporter": "python",
   "pygments_lexer": "ipython3",
   "version": "3.11.5"
  }
 },
 "nbformat": 4,
 "nbformat_minor": 2
}
